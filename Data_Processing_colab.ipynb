{
 "cells": [
  {
   "cell_type": "markdown",
   "id": "0KVI549ZbF7b",
   "metadata": {
    "id": "0KVI549ZbF7b"
   },
   "source": [
    "### Установка пакетов"
   ]
  },
  {
   "cell_type": "code",
   "execution_count": 1,
   "id": "addressed-proposition",
   "metadata": {
    "colab": {
     "base_uri": "https://localhost:8080/"
    },
    "id": "addressed-proposition",
    "outputId": "3448504c-26f1-4629-9f69-6afae315ffea"
   },
   "outputs": [
    {
     "name": "stdout",
     "output_type": "stream",
     "text": [
      "Collecting ogb\n",
      "\u001b[?25l  Downloading https://files.pythonhosted.org/packages/d2/c5/20b1e4a5ff90ead06139ce1c2362474b97bb3a73ee0166eb37f2d3eb0dba/ogb-1.3.1-py3-none-any.whl (67kB)\n",
      "\r",
      "\u001b[K     |████▉                           | 10kB 17.3MB/s eta 0:00:01\r",
      "\u001b[K     |█████████▊                      | 20kB 23.2MB/s eta 0:00:01\r",
      "\u001b[K     |██████████████▌                 | 30kB 21.1MB/s eta 0:00:01\r",
      "\u001b[K     |███████████████████▍            | 40kB 16.9MB/s eta 0:00:01\r",
      "\u001b[K     |████████████████████████▎       | 51kB 17.5MB/s eta 0:00:01\r",
      "\u001b[K     |█████████████████████████████   | 61kB 17.2MB/s eta 0:00:01\r",
      "\u001b[K     |████████████████████████████████| 71kB 3.4MB/s \n",
      "\u001b[?25hRequirement already satisfied, skipping upgrade: tqdm>=4.29.0 in /usr/local/lib/python3.7/dist-packages (from ogb) (4.41.1)\n",
      "Requirement already satisfied, skipping upgrade: pandas>=0.24.0 in /usr/local/lib/python3.7/dist-packages (from ogb) (1.1.5)\n",
      "Collecting outdated>=0.2.0\n",
      "  Downloading https://files.pythonhosted.org/packages/fd/f6/95588d496e518355c33b389222c99069b1c6f2c046be64f400072fdc7cda/outdated-0.2.1-py3-none-any.whl\n",
      "Requirement already satisfied, skipping upgrade: urllib3>=1.24.0 in /usr/local/lib/python3.7/dist-packages (from ogb) (1.24.3)\n",
      "Requirement already satisfied, skipping upgrade: six>=1.12.0 in /usr/local/lib/python3.7/dist-packages (from ogb) (1.15.0)\n",
      "Requirement already satisfied, skipping upgrade: numpy>=1.16.0 in /usr/local/lib/python3.7/dist-packages (from ogb) (1.19.5)\n",
      "Requirement already satisfied, skipping upgrade: scikit-learn>=0.20.0 in /usr/local/lib/python3.7/dist-packages (from ogb) (0.22.2.post1)\n",
      "Requirement already satisfied, skipping upgrade: torch>=1.6.0 in /usr/local/lib/python3.7/dist-packages (from ogb) (1.8.1+cu101)\n",
      "Requirement already satisfied, skipping upgrade: pytz>=2017.2 in /usr/local/lib/python3.7/dist-packages (from pandas>=0.24.0->ogb) (2018.9)\n",
      "Requirement already satisfied, skipping upgrade: python-dateutil>=2.7.3 in /usr/local/lib/python3.7/dist-packages (from pandas>=0.24.0->ogb) (2.8.1)\n",
      "Requirement already satisfied, skipping upgrade: requests in /usr/local/lib/python3.7/dist-packages (from outdated>=0.2.0->ogb) (2.23.0)\n",
      "Collecting littleutils\n",
      "  Downloading https://files.pythonhosted.org/packages/4e/b1/bb4e06f010947d67349f863b6a2ad71577f85590180a935f60543f622652/littleutils-0.2.2.tar.gz\n",
      "Requirement already satisfied, skipping upgrade: scipy>=0.17.0 in /usr/local/lib/python3.7/dist-packages (from scikit-learn>=0.20.0->ogb) (1.4.1)\n",
      "Requirement already satisfied, skipping upgrade: joblib>=0.11 in /usr/local/lib/python3.7/dist-packages (from scikit-learn>=0.20.0->ogb) (1.0.1)\n",
      "Requirement already satisfied, skipping upgrade: typing-extensions in /usr/local/lib/python3.7/dist-packages (from torch>=1.6.0->ogb) (3.7.4.3)\n",
      "Requirement already satisfied, skipping upgrade: idna<3,>=2.5 in /usr/local/lib/python3.7/dist-packages (from requests->outdated>=0.2.0->ogb) (2.10)\n",
      "Requirement already satisfied, skipping upgrade: certifi>=2017.4.17 in /usr/local/lib/python3.7/dist-packages (from requests->outdated>=0.2.0->ogb) (2020.12.5)\n",
      "Requirement already satisfied, skipping upgrade: chardet<4,>=3.0.2 in /usr/local/lib/python3.7/dist-packages (from requests->outdated>=0.2.0->ogb) (3.0.4)\n",
      "Building wheels for collected packages: littleutils\n",
      "  Building wheel for littleutils (setup.py) ... \u001b[?25l\u001b[?25hdone\n",
      "  Created wheel for littleutils: filename=littleutils-0.2.2-cp37-none-any.whl size=7051 sha256=d5f9c8c4e0996e9cb9ac909c56e26a8ec72316956c465fe37e1d7d508a00db9b\n",
      "  Stored in directory: /root/.cache/pip/wheels/53/16/9f/ac67d15c40243754fd73f620e1b9b6dedc20492ecc19a2bae1\n",
      "Successfully built littleutils\n",
      "Installing collected packages: littleutils, outdated, ogb\n",
      "Successfully installed littleutils-0.2.2 ogb-1.3.1 outdated-0.2.1\n"
     ]
    }
   ],
   "source": [
    "!pip install -U ogb"
   ]
  },
  {
   "cell_type": "code",
   "execution_count": 2,
   "id": "gAljJbOeZQoo",
   "metadata": {
    "colab": {
     "base_uri": "https://localhost:8080/"
    },
    "id": "gAljJbOeZQoo",
    "outputId": "be559884-cf7c-4257-f148-7a68d5957efb"
   },
   "outputs": [
    {
     "name": "stdout",
     "output_type": "stream",
     "text": [
      "\u001b[K     |████████████████████████████████| 2.6MB 9.6MB/s \n",
      "\u001b[K     |████████████████████████████████| 1.5MB 10.5MB/s \n",
      "\u001b[K     |████████████████████████████████| 215kB 12.2MB/s \n",
      "\u001b[K     |████████████████████████████████| 235kB 20.8MB/s \n",
      "\u001b[K     |████████████████████████████████| 2.2MB 27.2MB/s \n",
      "\u001b[K     |████████████████████████████████| 51kB 3.5MB/s \n",
      "\u001b[?25h  Building wheel for torch-geometric (setup.py) ... \u001b[?25l\u001b[?25hdone\n"
     ]
    }
   ],
   "source": [
    "# Install required packages.\n",
    "!pip install -q torch-scatter -f https://pytorch-geometric.com/whl/torch-1.8.0+cu101.html\n",
    "!pip install -q torch-sparse -f https://pytorch-geometric.com/whl/torch-1.8.0+cu101.html\n",
    "!pip install -q torch-geometric"
   ]
  },
  {
   "cell_type": "code",
   "execution_count": 6,
   "id": "ZErEFp8lZxlX",
   "metadata": {
    "colab": {
     "base_uri": "https://localhost:8080/"
    },
    "id": "ZErEFp8lZxlX",
    "outputId": "2bffeda2-e60d-4d89-9bdc-6442f7b7be0d"
   },
   "outputs": [
    {
     "name": "stdout",
     "output_type": "stream",
     "text": [
      "Collecting dgl-cu101\n",
      "\u001b[?25l  Downloading https://files.pythonhosted.org/packages/34/42/f2b5c0a2ba070599b06981698fd5b302bd081c4d0257b6f84cb2c196886a/dgl_cu101-0.6.1-cp37-cp37m-manylinux1_x86_64.whl (36.2MB)\n",
      "\u001b[K     |████████████████████████████████| 36.2MB 119kB/s \n",
      "\u001b[?25hRequirement already satisfied: requests>=2.19.0 in /usr/local/lib/python3.7/dist-packages (from dgl-cu101) (2.23.0)\n",
      "Requirement already satisfied: scipy>=1.1.0 in /usr/local/lib/python3.7/dist-packages (from dgl-cu101) (1.4.1)\n",
      "Requirement already satisfied: networkx>=2.1 in /usr/local/lib/python3.7/dist-packages (from dgl-cu101) (2.5)\n",
      "Requirement already satisfied: numpy>=1.14.0 in /usr/local/lib/python3.7/dist-packages (from dgl-cu101) (1.19.5)\n",
      "Requirement already satisfied: urllib3!=1.25.0,!=1.25.1,<1.26,>=1.21.1 in /usr/local/lib/python3.7/dist-packages (from requests>=2.19.0->dgl-cu101) (1.24.3)\n",
      "Requirement already satisfied: certifi>=2017.4.17 in /usr/local/lib/python3.7/dist-packages (from requests>=2.19.0->dgl-cu101) (2020.12.5)\n",
      "Requirement already satisfied: chardet<4,>=3.0.2 in /usr/local/lib/python3.7/dist-packages (from requests>=2.19.0->dgl-cu101) (3.0.4)\n",
      "Requirement already satisfied: idna<3,>=2.5 in /usr/local/lib/python3.7/dist-packages (from requests>=2.19.0->dgl-cu101) (2.10)\n",
      "Requirement already satisfied: decorator>=4.3.0 in /usr/local/lib/python3.7/dist-packages (from networkx>=2.1->dgl-cu101) (4.4.2)\n",
      "Installing collected packages: dgl-cu101\n",
      "Successfully installed dgl-cu101-0.6.1\n"
     ]
    }
   ],
   "source": [
    "!pip install dgl-cu101"
   ]
  },
  {
   "cell_type": "code",
   "execution_count": 7,
   "id": "Q6pH_n0oafum",
   "metadata": {
    "id": "Q6pH_n0oafum"
   },
   "outputs": [],
   "source": [
    "import sys\n",
    "import os\n",
    "import requests\n",
    "import subprocess\n",
    "import shutil\n",
    "from logging import getLogger, StreamHandler, INFO\n",
    "\n",
    "\n",
    "logger = getLogger(__name__)\n",
    "logger.addHandler(StreamHandler())\n",
    "logger.setLevel(INFO)\n",
    "\n",
    "\n",
    "def install(\n",
    "        chunk_size=4096,\n",
    "        file_name=\"Miniconda3-latest-Linux-x86_64.sh\",\n",
    "        url_base=\"https://repo.continuum.io/miniconda/\",\n",
    "        conda_path=os.path.expanduser(os.path.join(\"~\", \"miniconda\")),\n",
    "        rdkit_version=None,\n",
    "        add_python_path=True,\n",
    "        force=False):\n",
    "    \"\"\"install rdkit from miniconda\n",
    "    ```\n",
    "    import rdkit_installer\n",
    "    rdkit_installer.install()\n",
    "    ```\n",
    "    \"\"\"\n",
    "\n",
    "    python_path = os.path.join(\n",
    "        conda_path,\n",
    "        \"lib\",\n",
    "        \"python{0}.{1}\".format(*sys.version_info),\n",
    "        \"site-packages\",\n",
    "    )\n",
    "\n",
    "    if add_python_path and python_path not in sys.path:\n",
    "        logger.info(\"add {} to PYTHONPATH\".format(python_path))\n",
    "        sys.path.append(python_path)\n",
    "\n",
    "    if os.path.isdir(os.path.join(python_path, \"rdkit\")):\n",
    "        logger.info(\"rdkit is already installed\")\n",
    "        if not force:\n",
    "            return\n",
    "\n",
    "        logger.info(\"force re-install\")\n",
    "\n",
    "    url = url_base + file_name\n",
    "    python_version = \"{0}.{1}.{2}\".format(*sys.version_info)\n",
    "\n",
    "    logger.info(\"python version: {}\".format(python_version))\n",
    "\n",
    "    if os.path.isdir(conda_path):\n",
    "        logger.warning(\"remove current miniconda\")\n",
    "        shutil.rmtree(conda_path)\n",
    "    elif os.path.isfile(conda_path):\n",
    "        logger.warning(\"remove {}\".format(conda_path))\n",
    "        os.remove(conda_path)\n",
    "\n",
    "    logger.info('fetching installer from {}'.format(url))\n",
    "    res = requests.get(url, stream=True)\n",
    "    res.raise_for_status()\n",
    "    with open(file_name, 'wb') as f:\n",
    "        for chunk in res.iter_content(chunk_size):\n",
    "            f.write(chunk)\n",
    "    logger.info('done')\n",
    "\n",
    "    logger.info('installing miniconda to {}'.format(conda_path))\n",
    "    subprocess.check_call([\"bash\", file_name, \"-b\", \"-p\", conda_path])\n",
    "    logger.info('done')\n",
    "\n",
    "    logger.info(\"installing rdkit\")\n",
    "    subprocess.check_call([\n",
    "        os.path.join(conda_path, \"bin\", \"conda\"),\n",
    "        \"install\",\n",
    "        \"--yes\",\n",
    "        \"-c\", \"rdkit\",\n",
    "        \"python=={}\".format(python_version),\n",
    "        \"rdkit\" if rdkit_version is None else \"rdkit=={}\".format(rdkit_version)])\n",
    "    logger.info(\"done\")\n",
    "\n",
    "    import rdkit\n",
    "    logger.info(\"rdkit-{} installation finished!\".format(rdkit.__version__))"
   ]
  },
  {
   "cell_type": "code",
   "execution_count": 8,
   "id": "nDsxpROXa7SA",
   "metadata": {
    "colab": {
     "base_uri": "https://localhost:8080/"
    },
    "id": "nDsxpROXa7SA",
    "outputId": "3db36216-2006-465f-b354-446c559cae76"
   },
   "outputs": [
    {
     "name": "stderr",
     "output_type": "stream",
     "text": [
      "add /root/miniconda/lib/python3.7/site-packages to PYTHONPATH\n",
      "python version: 3.7.10\n",
      "fetching installer from https://repo.continuum.io/miniconda/Miniconda3-latest-Linux-x86_64.sh\n",
      "done\n",
      "installing miniconda to /root/miniconda\n",
      "done\n",
      "installing rdkit\n",
      "done\n",
      "rdkit-2020.09.1 installation finished!\n"
     ]
    }
   ],
   "source": [
    "install()"
   ]
  },
  {
   "cell_type": "markdown",
   "id": "FqIIp0l-bYoc",
   "metadata": {
    "id": "FqIIp0l-bYoc"
   },
   "source": [
    "### Загрузка данных"
   ]
  },
  {
   "cell_type": "code",
   "execution_count": 11,
   "id": "accessible-ballet",
   "metadata": {
    "colab": {
     "base_uri": "https://localhost:8080/"
    },
    "id": "accessible-ballet",
    "outputId": "c7099191-7548-449a-a3b0-30baa5693031"
   },
   "outputs": [
    {
     "name": "stderr",
     "output_type": "stream",
     "text": [
      "DGL backend not selected or invalid.  Assuming PyTorch for now.\n"
     ]
    },
    {
     "name": "stdout",
     "output_type": "stream",
     "text": [
      "Setting the default backend to \"pytorch\". You can change it in the ~/.dgl/config.json file or export the DGLBACKEND environment variable.  Valid options are: pytorch, mxnet, tensorflow (all lowercase)\n"
     ]
    },
    {
     "name": "stderr",
     "output_type": "stream",
     "text": [
      "Using backend: pytorch\n"
     ]
    }
   ],
   "source": [
    "import rdkit\n",
    "from ogb.lsc import PCQM4MDataset\n",
    "from ogb.utils import smiles2graph"
   ]
  },
  {
   "cell_type": "markdown",
   "id": "aHR7BQaCbEMV",
   "metadata": {
    "id": "aHR7BQaCbEMV"
   },
   "source": []
  },
  {
   "cell_type": "code",
   "execution_count": 12,
   "id": "municipal-setting",
   "metadata": {
    "colab": {
     "base_uri": "https://localhost:8080/"
    },
    "id": "municipal-setting",
    "outputId": "c5461048-05a9-4a63-97da-dfec92966104"
   },
   "outputs": [
    {
     "name": "stdout",
     "output_type": "stream",
     "text": [
      "Downloading https://dgl-data.s3-accelerate.amazonaws.com/dataset/OGB-LSC/pcqm4m_kddcup2021.zip\n"
     ]
    },
    {
     "name": "stderr",
     "output_type": "stream",
     "text": [
      "Downloaded 0.06 GB: 100%|██████████| 59/59 [00:02<00:00, 24.62it/s]\n"
     ]
    },
    {
     "name": "stdout",
     "output_type": "stream",
     "text": [
      "Extracting dataset/pcqm4m_kddcup2021.zip\n",
      "('COC(=O)C1=CN=CC(C1=O)N(=O)=O', 4.2096012672350005)\n"
     ]
    }
   ],
   "source": [
    "dataset = PCQM4MDataset(only_smiles = True)\n",
    "\n",
    "# get i-th molecule and its target value (nan for test data)\n",
    "i = 2000\n",
    "print(dataset[i]) # ('O=C1C=CC(O1)C(c1ccccc1C)O', 5.292614392225)"
   ]
  },
  {
   "cell_type": "code",
   "execution_count": 14,
   "id": "opening-diploma",
   "metadata": {
    "id": "opening-diploma"
   },
   "outputs": [],
   "source": [
    "graph_obj = smiles2graph(dataset[i][0])"
   ]
  },
  {
   "cell_type": "code",
   "execution_count": 15,
   "id": "parallel-effect",
   "metadata": {
    "colab": {
     "base_uri": "https://localhost:8080/"
    },
    "id": "parallel-effect",
    "outputId": "a11f2706-ac56-4759-9a0e-16df07a451c5"
   },
   "outputs": [
    {
     "data": {
      "text/plain": [
       "((2, 28), (28, 3), (14, 9))"
      ]
     },
     "execution_count": 15,
     "metadata": {
      "tags": []
     },
     "output_type": "execute_result"
    }
   ],
   "source": [
    "graph_obj['edge_index'].shape, graph_obj['edge_feat'].shape, graph_obj['node_feat'].shape \n",
    "#список смежных вершин, признаки связей, признаки атомов"
   ]
  },
  {
   "cell_type": "code",
   "execution_count": 16,
   "id": "introductory-register",
   "metadata": {
    "colab": {
     "base_uri": "https://localhost:8080/"
    },
    "id": "introductory-register",
    "outputId": "ba0c36f2-7e8f-4c36-8def-4c2d898fb1aa"
   },
   "outputs": [
    {
     "data": {
      "text/plain": [
       "array([[5, 0, 4, 5, 3, 0, 2, 0, 0],\n",
       "       [7, 0, 2, 5, 0, 0, 1, 0, 0],\n",
       "       [5, 0, 3, 5, 0, 0, 1, 0, 0],\n",
       "       [7, 0, 1, 5, 0, 0, 1, 0, 0],\n",
       "       [5, 0, 3, 5, 0, 0, 1, 0, 1],\n",
       "       [5, 0, 3, 5, 1, 0, 1, 0, 1],\n",
       "       [6, 0, 2, 5, 0, 0, 1, 0, 1],\n",
       "       [5, 0, 3, 5, 1, 0, 1, 0, 1],\n",
       "       [5, 0, 4, 5, 1, 0, 2, 0, 1],\n",
       "       [5, 0, 3, 5, 0, 0, 1, 0, 1],\n",
       "       [7, 0, 1, 5, 0, 0, 1, 0, 0],\n",
       "       [6, 0, 3, 6, 0, 0, 1, 0, 0],\n",
       "       [7, 0, 1, 4, 0, 0, 1, 0, 0],\n",
       "       [7, 0, 1, 5, 0, 0, 1, 0, 0]])"
      ]
     },
     "execution_count": 16,
     "metadata": {
      "tags": []
     },
     "output_type": "execute_result"
    }
   ],
   "source": [
    "graph_obj['node_feat']"
   ]
  },
  {
   "cell_type": "code",
   "execution_count": 17,
   "id": "static-performer",
   "metadata": {
    "id": "static-performer"
   },
   "outputs": [],
   "source": [
    "import torch \n",
    "from ogb.graphproppred.mol_encoder import AtomEncoder, BondEncoder\n",
    "atom_encoder = AtomEncoder(emb_dim = 20) # Pytorch Module class w/ learnable parameters\n",
    "bond_encoder = BondEncoder(emb_dim = 20) # Pytorch Module class w/ learnable parameters"
   ]
  },
  {
   "cell_type": "code",
   "execution_count": 18,
   "id": "portable-pulse",
   "metadata": {
    "id": "portable-pulse"
   },
   "outputs": [],
   "source": [
    "atom_emb = atom_encoder(torch.IntTensor(graph_obj['node_feat'])) # node_feat is input atom feature in Pytorch Tensor"
   ]
  },
  {
   "cell_type": "code",
   "execution_count": 19,
   "id": "forward-mississippi",
   "metadata": {
    "id": "forward-mississippi"
   },
   "outputs": [],
   "source": [
    "edge_emb = bond_encoder(torch.IntTensor(graph_obj['edge_feat'])) # edge_feat is input edge feature in Pytorch Tensor"
   ]
  },
  {
   "cell_type": "code",
   "execution_count": 20,
   "id": "electoral-phoenix",
   "metadata": {
    "colab": {
     "base_uri": "https://localhost:8080/"
    },
    "id": "electoral-phoenix",
    "outputId": "b80b6e31-cf8d-4338-b41f-25a6a38f284b"
   },
   "outputs": [
    {
     "name": "stdout",
     "output_type": "stream",
     "text": [
      "torch.Size([14, 20]) torch.Size([28, 20])\n"
     ]
    }
   ],
   "source": [
    "print(atom_emb.shape, edge_emb.shape)"
   ]
  },
  {
   "cell_type": "code",
   "execution_count": 21,
   "id": "unexpected-flavor",
   "metadata": {
    "id": "unexpected-flavor"
   },
   "outputs": [],
   "source": [
    "split_dict = dataset.get_idx_split()\n",
    "train_idx = split_dict['train'] # numpy array storing indices of training paper nodes\n",
    "valid_idx = split_dict['valid'] # numpy array storing indices of validation paper nodes\n",
    "test_idx = split_dict['test']"
   ]
  },
  {
   "cell_type": "code",
   "execution_count": 22,
   "id": "capital-lloyd",
   "metadata": {
    "colab": {
     "base_uri": "https://localhost:8080/"
    },
    "id": "capital-lloyd",
    "outputId": "cedda57b-e14e-451e-b518-201102b91d46"
   },
   "outputs": [
    {
     "name": "stdout",
     "output_type": "stream",
     "text": [
      "[      0       1       2 ... 3045357 3045358 3045359] [3045360 3045361 3045362 ... 3426027 3426028 3426029] [3426030 3426031 3426032 ... 3803450 3803451 3803452]\n"
     ]
    }
   ],
   "source": [
    "print(train_idx, valid_idx, test_idx)"
   ]
  },
  {
   "cell_type": "code",
   "execution_count": 23,
   "id": "durable-european",
   "metadata": {
    "colab": {
     "base_uri": "https://localhost:8080/"
    },
    "id": "durable-european",
    "outputId": "bd925cf7-f345-4a86-a9b2-de35b5975ac5"
   },
   "outputs": [
    {
     "data": {
      "text/plain": [
       "(('Cc1ccc(cc1)C1C=c2cnccc2=NC1=O', 3.0476751256),\n",
       " ('Cn1nc(nc1C)c1ccccn1', 5.32254691578),\n",
       " ('COc1ccccc1N[C@@H](C(=NC(=N)O)O)C', nan))"
      ]
     },
     "execution_count": 23,
     "metadata": {
      "tags": []
     },
     "output_type": "execute_result"
    }
   ],
   "source": [
    "dataset[train_idx[0]], dataset[valid_idx[1]], dataset[test_idx[0]]"
   ]
  },
  {
   "cell_type": "code",
   "execution_count": 24,
   "id": "removed-pension",
   "metadata": {
    "id": "removed-pension"
   },
   "outputs": [],
   "source": [
    "from rdkit import Chem\n",
    "from rdkit.Chem import Draw\n",
    "from rdkit.Chem import AllChem"
   ]
  },
  {
   "cell_type": "code",
   "execution_count": 25,
   "id": "integral-cambodia",
   "metadata": {
    "id": "integral-cambodia"
   },
   "outputs": [],
   "source": [
    "element = smiles2graph(dataset[train_idx[0]][0])"
   ]
  },
  {
   "cell_type": "code",
   "execution_count": 26,
   "id": "orange-saint",
   "metadata": {
    "id": "orange-saint"
   },
   "outputs": [],
   "source": [
    "m = Chem.MolFromSmiles(dataset[0][0])\n",
    "mol_coords = AllChem.Compute2DCoords(m)"
   ]
  },
  {
   "cell_type": "code",
   "execution_count": 27,
   "id": "intensive-still",
   "metadata": {
    "id": "intensive-still"
   },
   "outputs": [],
   "source": [
    "img = Draw.MolToImage(m)"
   ]
  },
  {
   "cell_type": "code",
   "execution_count": 28,
   "id": "standing-junior",
   "metadata": {
    "id": "standing-junior"
   },
   "outputs": [],
   "source": [
    "import matplotlib.pyplot as plt\n",
    "import numpy as np\n",
    "%matplotlib inline"
   ]
  },
  {
   "cell_type": "code",
   "execution_count": 29,
   "id": "congressional-baptist",
   "metadata": {
    "id": "congressional-baptist"
   },
   "outputs": [],
   "source": [
    "def plot_adjacency_matrix(element, ax):\n",
    "    min_val, max_val = 0, element['edge_index'].shape[1] / 2\n",
    "\n",
    "    ind_array = np.arange(min_val + 0.5, max_val + 0.5, 1.0)\n",
    "    x, y = np.meshgrid(ind_array, ind_array)\n",
    "\n",
    "    adjacency_matrix = np.zeros((int(element['edge_index'].shape[1] / 2), \n",
    "                                 int(element['edge_index'].shape[1] / 2)), dtype ='int')\n",
    "\n",
    "    for edge_1, edge_2 in element['edge_index'].T:\n",
    "        adjacency_matrix[edge_1, edge_2] = 1\n",
    "\n",
    "    for i, (x_val, y_val) in enumerate(zip(x.flatten(), y.flatten())):\n",
    "        c = str(adjacency_matrix[int(x_val), int(y_val)])\n",
    "        ax.text(x_val, y_val, c, va='center', ha='center')\n",
    "\n",
    "    ax.set_aspect('equal', adjustable='box')\n",
    "        \n",
    "    ax.set_xlim(min_val, max_val)\n",
    "    ax.set_ylim(min_val, max_val)\n",
    "    ax.set_xticks(np.arange(max_val))\n",
    "    ax.set_yticks(np.arange(max_val))\n",
    "    ax.grid()"
   ]
  },
  {
   "cell_type": "code",
   "execution_count": 30,
   "id": "coastal-mortgage",
   "metadata": {
    "id": "coastal-mortgage"
   },
   "outputs": [],
   "source": [
    "def plot_batch_samples(batch):\n",
    "    fig = plt.figure(figsize = (12, 15))\n",
    "    axes = fig.subplots(nrows=3, ncols=2)\n",
    "\n",
    "    plt.subplots_adjust(wspace = 0.05, hspace = 0.2)\n",
    "    \n",
    "    for i, (smile, y) in enumerate(batch):\n",
    "        graph = smiles2graph(smile)\n",
    "        mol = Chem.MolFromSmiles(smile)\n",
    "        img = Draw.MolToImage(mol)\n",
    "        \n",
    "        axes[i, 0].set_title('Target: ' + str(y))\n",
    "        axes[i, 0].imshow(img)\n",
    "        plot_adjacency_matrix(graph, axes[i, 1])\n",
    "        axes[i, 1].set_title('Adjacency_matrix')\n",
    "        if i == 2:\n",
    "            break\n",
    "\n",
    "    plt.show()"
   ]
  },
  {
   "cell_type": "code",
   "execution_count": 31,
   "id": "ultimate-convert",
   "metadata": {
    "id": "ultimate-convert"
   },
   "outputs": [],
   "source": [
    "batch = [dataset[0], dataset[1], dataset[2]]"
   ]
  },
  {
   "cell_type": "code",
   "execution_count": 32,
   "id": "durable-midwest",
   "metadata": {
    "colab": {
     "base_uri": "https://localhost:8080/",
     "height": 879
    },
    "id": "durable-midwest",
    "outputId": "12f8ee2b-bca1-4a54-d6d4-e4be3208b69a"
   },
   "outputs": [
    {
     "data": {
      "image/png": "[encoded data removed]",
      "text/plain": [
       "<Figure size 864x1080 with 6 Axes>"
      ]
     },
     "metadata": {
      "needs_background": "light",
      "tags": []
     },
     "output_type": "display_data"
    }
   ],
   "source": [
    "plot_batch_samples(batch)"
   ]
  },
  {
   "cell_type": "code",
   "execution_count": 34,
   "id": "ordinary-buffer",
   "metadata": {
    "id": "ordinary-buffer"
   },
   "outputs": [],
   "source": [
    "import torch_geometric\n",
    "import dgl"
   ]
  },
  {
   "cell_type": "code",
   "execution_count": 36,
   "id": "postal-ebony",
   "metadata": {
    "colab": {
     "base_uri": "https://localhost:8080/",
     "height": 441
    },
    "id": "postal-ebony",
    "outputId": "0b885207-a3ef-45ee-dd4d-23424cb84e91"
   },
   "outputs": [
    {
     "name": "stdout",
     "output_type": "stream",
     "text": [
      "Downloading https://dgl-data.s3-accelerate.amazonaws.com/dataset/OGB-LSC/pcqm4m_kddcup2021.zip\n"
     ]
    },
    {
     "name": "stderr",
     "output_type": "stream",
     "text": [
      "Downloaded 0.06 GB: 100%|██████████| 59/59 [00:02<00:00, 23.44it/s]\n"
     ]
    },
    {
     "name": "stdout",
     "output_type": "stream",
     "text": [
      "Extracting py_geom_dataset/pcqm4m_kddcup2021.zip\n",
      "Processing...\n"
     ]
    },
    {
     "name": "stderr",
     "output_type": "stream",
     "text": [
      "  0%|          | 42/3803453 [00:00<2:32:23, 415.99it/s]"
     ]
    },
    {
     "name": "stdout",
     "output_type": "stream",
     "text": [
      "Converting SMILES strings into graphs...\n"
     ]
    },
    {
     "name": "stderr",
     "output_type": "stream",
     "text": [
      "  1%|          | 42747/3803453 [01:38<2:23:43, 436.09it/s]"
     ]
    },
    {
     "ename": "KeyboardInterrupt",
     "evalue": "ignored",
     "output_type": "error",
     "traceback": [
      "\u001b[0;31m---------------------------------------------------------------------------\u001b[0m",
      "\u001b[0;31mKeyboardInterrupt\u001b[0m                         Traceback (most recent call last)",
      "\u001b[0;32m<ipython-input-36-02804c9c45e0>\u001b[0m in \u001b[0;36m<module>\u001b[0;34m()\u001b[0m\n\u001b[1;32m      1\u001b[0m \u001b[0;32mfrom\u001b[0m \u001b[0mogb\u001b[0m\u001b[0;34m.\u001b[0m\u001b[0mlsc\u001b[0m \u001b[0;32mimport\u001b[0m \u001b[0mPygPCQM4MDataset\u001b[0m\u001b[0;34m\u001b[0m\u001b[0;34m\u001b[0m\u001b[0m\n\u001b[0;32m----> 2\u001b[0;31m \u001b[0mpyg_dataset\u001b[0m \u001b[0;34m=\u001b[0m \u001b[0mPygPCQM4MDataset\u001b[0m\u001b[0;34m(\u001b[0m\u001b[0mroot\u001b[0m \u001b[0;34m=\u001b[0m \u001b[0;34m'py_geom_dataset'\u001b[0m\u001b[0;34m,\u001b[0m \u001b[0msmiles2graph\u001b[0m \u001b[0;34m=\u001b[0m \u001b[0msmiles2graph\u001b[0m\u001b[0;34m)\u001b[0m\u001b[0;34m\u001b[0m\u001b[0;34m\u001b[0m\u001b[0m\n\u001b[0m",
      "\u001b[0;32m/usr/local/lib/python3.7/dist-packages/ogb/lsc/pcqm4m_pyg.py\u001b[0m in \u001b[0;36m__init__\u001b[0;34m(self, root, smiles2graph, transform, pre_transform)\u001b[0m\n\u001b[1;32m     38\u001b[0m                 \u001b[0mshutil\u001b[0m\u001b[0;34m.\u001b[0m\u001b[0mrmtree\u001b[0m\u001b[0;34m(\u001b[0m\u001b[0mself\u001b[0m\u001b[0;34m.\u001b[0m\u001b[0mfolder\u001b[0m\u001b[0;34m)\u001b[0m\u001b[0;34m\u001b[0m\u001b[0;34m\u001b[0m\u001b[0m\n\u001b[1;32m     39\u001b[0m \u001b[0;34m\u001b[0m\u001b[0m\n\u001b[0;32m---> 40\u001b[0;31m         \u001b[0msuper\u001b[0m\u001b[0;34m(\u001b[0m\u001b[0mPygPCQM4MDataset\u001b[0m\u001b[0;34m,\u001b[0m \u001b[0mself\u001b[0m\u001b[0;34m)\u001b[0m\u001b[0;34m.\u001b[0m\u001b[0m__init__\u001b[0m\u001b[0;34m(\u001b[0m\u001b[0mself\u001b[0m\u001b[0;34m.\u001b[0m\u001b[0mfolder\u001b[0m\u001b[0;34m,\u001b[0m \u001b[0mtransform\u001b[0m\u001b[0;34m,\u001b[0m \u001b[0mpre_transform\u001b[0m\u001b[0;34m)\u001b[0m\u001b[0;34m\u001b[0m\u001b[0;34m\u001b[0m\u001b[0m\n\u001b[0m\u001b[1;32m     41\u001b[0m \u001b[0;34m\u001b[0m\u001b[0m\n\u001b[1;32m     42\u001b[0m         \u001b[0mself\u001b[0m\u001b[0;34m.\u001b[0m\u001b[0mdata\u001b[0m\u001b[0;34m,\u001b[0m \u001b[0mself\u001b[0m\u001b[0;34m.\u001b[0m\u001b[0mslices\u001b[0m \u001b[0;34m=\u001b[0m \u001b[0mtorch\u001b[0m\u001b[0;34m.\u001b[0m\u001b[0mload\u001b[0m\u001b[0;34m(\u001b[0m\u001b[0mself\u001b[0m\u001b[0;34m.\u001b[0m\u001b[0mprocessed_paths\u001b[0m\u001b[0;34m[\u001b[0m\u001b[0;36m0\u001b[0m\u001b[0;34m]\u001b[0m\u001b[0;34m)\u001b[0m\u001b[0;34m\u001b[0m\u001b[0;34m\u001b[0m\u001b[0m\n",
      "\u001b[0;32m/usr/local/lib/python3.7/dist-packages/torch_geometric/data/in_memory_dataset.py\u001b[0m in \u001b[0;36m__init__\u001b[0;34m(self, root, transform, pre_transform, pre_filter)\u001b[0m\n\u001b[1;32m     53\u001b[0m                  pre_filter=None):\n\u001b[1;32m     54\u001b[0m         super(InMemoryDataset, self).__init__(root, transform, pre_transform,\n\u001b[0;32m---> 55\u001b[0;31m                                               pre_filter)\n\u001b[0m\u001b[1;32m     56\u001b[0m         \u001b[0mself\u001b[0m\u001b[0;34m.\u001b[0m\u001b[0mdata\u001b[0m\u001b[0;34m,\u001b[0m \u001b[0mself\u001b[0m\u001b[0;34m.\u001b[0m\u001b[0mslices\u001b[0m \u001b[0;34m=\u001b[0m \u001b[0;32mNone\u001b[0m\u001b[0;34m,\u001b[0m \u001b[0;32mNone\u001b[0m\u001b[0;34m\u001b[0m\u001b[0;34m\u001b[0m\u001b[0m\n\u001b[1;32m     57\u001b[0m         \u001b[0mself\u001b[0m\u001b[0;34m.\u001b[0m\u001b[0m__data_list__\u001b[0m \u001b[0;34m=\u001b[0m \u001b[0;32mNone\u001b[0m\u001b[0;34m\u001b[0m\u001b[0;34m\u001b[0m\u001b[0m\n",
      "\u001b[0;32m/usr/local/lib/python3.7/dist-packages/torch_geometric/data/dataset.py\u001b[0m in \u001b[0;36m__init__\u001b[0;34m(self, root, transform, pre_transform, pre_filter)\u001b[0m\n\u001b[1;32m     90\u001b[0m \u001b[0;34m\u001b[0m\u001b[0m\n\u001b[1;32m     91\u001b[0m         \u001b[0;32mif\u001b[0m \u001b[0;34m'process'\u001b[0m \u001b[0;32min\u001b[0m \u001b[0mself\u001b[0m\u001b[0;34m.\u001b[0m\u001b[0m__class__\u001b[0m\u001b[0;34m.\u001b[0m\u001b[0m__dict__\u001b[0m\u001b[0;34m.\u001b[0m\u001b[0mkeys\u001b[0m\u001b[0;34m(\u001b[0m\u001b[0;34m)\u001b[0m\u001b[0;34m:\u001b[0m\u001b[0;34m\u001b[0m\u001b[0;34m\u001b[0m\u001b[0m\n\u001b[0;32m---> 92\u001b[0;31m             \u001b[0mself\u001b[0m\u001b[0;34m.\u001b[0m\u001b[0m_process\u001b[0m\u001b[0;34m(\u001b[0m\u001b[0;34m)\u001b[0m\u001b[0;34m\u001b[0m\u001b[0;34m\u001b[0m\u001b[0m\n\u001b[0m\u001b[1;32m     93\u001b[0m \u001b[0;34m\u001b[0m\u001b[0m\n\u001b[1;32m     94\u001b[0m     \u001b[0;32mdef\u001b[0m \u001b[0mindices\u001b[0m\u001b[0;34m(\u001b[0m\u001b[0mself\u001b[0m\u001b[0;34m)\u001b[0m\u001b[0;34m:\u001b[0m\u001b[0;34m\u001b[0m\u001b[0;34m\u001b[0m\u001b[0m\n",
      "\u001b[0;32m/usr/local/lib/python3.7/dist-packages/torch_geometric/data/dataset.py\u001b[0m in \u001b[0;36m_process\u001b[0;34m(self)\u001b[0m\n\u001b[1;32m    163\u001b[0m \u001b[0;34m\u001b[0m\u001b[0m\n\u001b[1;32m    164\u001b[0m         \u001b[0mmakedirs\u001b[0m\u001b[0;34m(\u001b[0m\u001b[0mself\u001b[0m\u001b[0;34m.\u001b[0m\u001b[0mprocessed_dir\u001b[0m\u001b[0;34m)\u001b[0m\u001b[0;34m\u001b[0m\u001b[0;34m\u001b[0m\u001b[0m\n\u001b[0;32m--> 165\u001b[0;31m         \u001b[0mself\u001b[0m\u001b[0;34m.\u001b[0m\u001b[0mprocess\u001b[0m\u001b[0;34m(\u001b[0m\u001b[0;34m)\u001b[0m\u001b[0;34m\u001b[0m\u001b[0;34m\u001b[0m\u001b[0m\n\u001b[0m\u001b[1;32m    166\u001b[0m \u001b[0;34m\u001b[0m\u001b[0m\n\u001b[1;32m    167\u001b[0m         \u001b[0mpath\u001b[0m \u001b[0;34m=\u001b[0m \u001b[0mosp\u001b[0m\u001b[0;34m.\u001b[0m\u001b[0mjoin\u001b[0m\u001b[0;34m(\u001b[0m\u001b[0mself\u001b[0m\u001b[0;34m.\u001b[0m\u001b[0mprocessed_dir\u001b[0m\u001b[0;34m,\u001b[0m \u001b[0;34m'pre_transform.pt'\u001b[0m\u001b[0;34m)\u001b[0m\u001b[0;34m\u001b[0m\u001b[0;34m\u001b[0m\u001b[0m\n",
      "\u001b[0;32m/usr/local/lib/python3.7/dist-packages/ogb/lsc/pcqm4m_pyg.py\u001b[0m in \u001b[0;36mprocess\u001b[0;34m(self)\u001b[0m\n\u001b[1;32m     71\u001b[0m             \u001b[0msmiles\u001b[0m \u001b[0;34m=\u001b[0m \u001b[0msmiles_list\u001b[0m\u001b[0;34m[\u001b[0m\u001b[0mi\u001b[0m\u001b[0;34m]\u001b[0m\u001b[0;34m\u001b[0m\u001b[0;34m\u001b[0m\u001b[0m\n\u001b[1;32m     72\u001b[0m             \u001b[0mhomolumogap\u001b[0m \u001b[0;34m=\u001b[0m \u001b[0mhomolumogap_list\u001b[0m\u001b[0;34m[\u001b[0m\u001b[0mi\u001b[0m\u001b[0;34m]\u001b[0m\u001b[0;34m\u001b[0m\u001b[0;34m\u001b[0m\u001b[0m\n\u001b[0;32m---> 73\u001b[0;31m             \u001b[0mgraph\u001b[0m \u001b[0;34m=\u001b[0m \u001b[0mself\u001b[0m\u001b[0;34m.\u001b[0m\u001b[0msmiles2graph\u001b[0m\u001b[0;34m(\u001b[0m\u001b[0msmiles\u001b[0m\u001b[0;34m)\u001b[0m\u001b[0;34m\u001b[0m\u001b[0;34m\u001b[0m\u001b[0m\n\u001b[0m\u001b[1;32m     74\u001b[0m \u001b[0;34m\u001b[0m\u001b[0m\n\u001b[1;32m     75\u001b[0m             \u001b[0;32massert\u001b[0m\u001b[0;34m(\u001b[0m\u001b[0mlen\u001b[0m\u001b[0;34m(\u001b[0m\u001b[0mgraph\u001b[0m\u001b[0;34m[\u001b[0m\u001b[0;34m'edge_feat'\u001b[0m\u001b[0;34m]\u001b[0m\u001b[0;34m)\u001b[0m \u001b[0;34m==\u001b[0m \u001b[0mgraph\u001b[0m\u001b[0;34m[\u001b[0m\u001b[0;34m'edge_index'\u001b[0m\u001b[0;34m]\u001b[0m\u001b[0;34m.\u001b[0m\u001b[0mshape\u001b[0m\u001b[0;34m[\u001b[0m\u001b[0;36m1\u001b[0m\u001b[0;34m]\u001b[0m\u001b[0;34m)\u001b[0m\u001b[0;34m\u001b[0m\u001b[0;34m\u001b[0m\u001b[0m\n",
      "\u001b[0;32m/usr/local/lib/python3.7/dist-packages/ogb/utils/mol.py\u001b[0m in \u001b[0;36msmiles2graph\u001b[0;34m(smiles_string)\u001b[0m\n\u001b[1;32m     24\u001b[0m         \u001b[0medges_list\u001b[0m \u001b[0;34m=\u001b[0m \u001b[0;34m[\u001b[0m\u001b[0;34m]\u001b[0m\u001b[0;34m\u001b[0m\u001b[0;34m\u001b[0m\u001b[0m\n\u001b[1;32m     25\u001b[0m         \u001b[0medge_features_list\u001b[0m \u001b[0;34m=\u001b[0m \u001b[0;34m[\u001b[0m\u001b[0;34m]\u001b[0m\u001b[0;34m\u001b[0m\u001b[0;34m\u001b[0m\u001b[0m\n\u001b[0;32m---> 26\u001b[0;31m         \u001b[0;32mfor\u001b[0m \u001b[0mbond\u001b[0m \u001b[0;32min\u001b[0m \u001b[0mmol\u001b[0m\u001b[0;34m.\u001b[0m\u001b[0mGetBonds\u001b[0m\u001b[0;34m(\u001b[0m\u001b[0;34m)\u001b[0m\u001b[0;34m:\u001b[0m\u001b[0;34m\u001b[0m\u001b[0;34m\u001b[0m\u001b[0m\n\u001b[0m\u001b[1;32m     27\u001b[0m             \u001b[0mi\u001b[0m \u001b[0;34m=\u001b[0m \u001b[0mbond\u001b[0m\u001b[0;34m.\u001b[0m\u001b[0mGetBeginAtomIdx\u001b[0m\u001b[0;34m(\u001b[0m\u001b[0;34m)\u001b[0m\u001b[0;34m\u001b[0m\u001b[0;34m\u001b[0m\u001b[0m\n\u001b[1;32m     28\u001b[0m             \u001b[0mj\u001b[0m \u001b[0;34m=\u001b[0m \u001b[0mbond\u001b[0m\u001b[0;34m.\u001b[0m\u001b[0mGetEndAtomIdx\u001b[0m\u001b[0;34m(\u001b[0m\u001b[0;34m)\u001b[0m\u001b[0;34m\u001b[0m\u001b[0;34m\u001b[0m\u001b[0m\n",
      "\u001b[0;31mKeyboardInterrupt\u001b[0m: "
     ]
    }
   ],
   "source": [
    "from ogb.lsc import PygPCQM4MDataset\n",
    "pyg_dataset = PygPCQM4MDataset(root = 'py_geom_dataset', smiles2graph = smiles2graph)"
   ]
  },
  {
   "cell_type": "code",
   "execution_count": null,
   "id": "k0B2hLB8adZh",
   "metadata": {
    "id": "k0B2hLB8adZh"
   },
   "outputs": [],
   "source": []
  },
  {
   "cell_type": "code",
   "execution_count": null,
   "id": "pgZLcEjGakQ5",
   "metadata": {
    "id": "pgZLcEjGakQ5"
   },
   "outputs": [],
   "source": []
  }
 ],
 "metadata": {
  "colab": {
   "name": "Data Processing.ipynb",
   "provenance": [],
   "toc_visible": true
  },
  "kernelspec": {
   "display_name": "Python 3 (ipykernel)",
   "language": "python",
   "name": "python3"
  },
  "language_info": {
   "codemirror_mode": {
    "name": "ipython",
    "version": 3
   },
   "file_extension": ".py",
   "mimetype": "text/x-python",
   "name": "python",
   "nbconvert_exporter": "python",
   "pygments_lexer": "ipython3",
   "version": "3.9.10"
  }
 },
 "nbformat": 4,
 "nbformat_minor": 5
}
