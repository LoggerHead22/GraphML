{
 "cells": [
  {
   "cell_type": "code",
   "execution_count": 2,
   "metadata": {},
   "outputs": [
    {
     "name": "stdout",
     "output_type": "stream",
     "text": [
      "Collecting dgl-cu101\n",
      "  Downloading dgl_cu101-0.6.1-cp39-cp39-win_amd64.whl (35.2 MB)\n",
      "     --------------------------------------- 35.2/35.2 MB 10.7 MB/s eta 0:00:00\n",
      "Requirement already satisfied: requests>=2.19.0 in c:\\pymol2\\envs\\new-rdkit-env\\lib\\site-packages (from dgl-cu101) (2.27.1)\n",
      "Collecting networkx>=2.1\n",
      "  Downloading networkx-2.7.1-py3-none-any.whl (2.0 MB)\n",
      "     ---------------------------------------- 2.0/2.0 MB 10.6 MB/s eta 0:00:00\n",
      "Requirement already satisfied: scipy>=1.1.0 in c:\\pymol2\\envs\\new-rdkit-env\\lib\\site-packages (from dgl-cu101) (1.8.0)\n",
      "Requirement already satisfied: numpy>=1.14.0 in c:\\pymol2\\envs\\new-rdkit-env\\lib\\site-packages (from dgl-cu101) (1.22.3)\n",
      "Requirement already satisfied: urllib3<1.27,>=1.21.1 in c:\\pymol2\\envs\\new-rdkit-env\\lib\\site-packages (from requests>=2.19.0->dgl-cu101) (1.26.9)\n",
      "Requirement already satisfied: charset-normalizer~=2.0.0 in c:\\pymol2\\envs\\new-rdkit-env\\lib\\site-packages (from requests>=2.19.0->dgl-cu101) (2.0.12)\n",
      "Requirement already satisfied: idna<4,>=2.5 in c:\\pymol2\\envs\\new-rdkit-env\\lib\\site-packages (from requests>=2.19.0->dgl-cu101) (3.3)\n",
      "Requirement already satisfied: certifi>=2017.4.17 in c:\\pymol2\\envs\\new-rdkit-env\\lib\\site-packages (from requests>=2.19.0->dgl-cu101) (2021.10.8)\n",
      "Installing collected packages: networkx, dgl-cu101\n",
      "Successfully installed dgl-cu101-0.6.1 networkx-2.7.1\n"
     ]
    }
   ],
   "source": [
    "!pip install dgl-cu101"
   ]
  },
  {
   "cell_type": "markdown",
   "metadata": {},
   "source": [
    "### Команды для установки deepchem в jupyter notebook\n",
    "\n",
    "conda install -y -c conda-forge nb_conda_kernels matplotlib\n",
    "\n",
    "pip install tensorflow\n",
    "\n",
    "pip install --pre deepchem"
   ]
  },
  {
   "cell_type": "markdown",
   "metadata": {},
   "source": [
    "### Команды для установки rdkit"
   ]
  },
  {
   "cell_type": "markdown",
   "metadata": {},
   "source": [
    "conda create -c conda-forge -n my-rdkit-env rdkit\n",
    "\n",
    "conda activate my-rdkit-env"
   ]
  },
  {
   "cell_type": "markdown",
   "metadata": {},
   "source": [
    "### Комманда для установки dgl"
   ]
  },
  {
   "cell_type": "markdown",
   "metadata": {},
   "source": [
    "!pip install dgl-cu101"
   ]
  },
  {
   "cell_type": "markdown",
   "metadata": {},
   "source": [
    "!pip install -U ogb"
   ]
  },
  {
   "cell_type": "code",
   "execution_count": 4,
   "metadata": {},
   "outputs": [
    {
     "name": "stdout",
     "output_type": "stream",
     "text": [
      "Collecting torch\n",
      "  Downloading torch-1.11.0-cp39-cp39-win_amd64.whl (157.9 MB)\n",
      "     -------------------------------------- 157.9/157.9 MB 5.2 MB/s eta 0:00:00\n",
      "Requirement already satisfied: typing-extensions in c:\\pymol2\\envs\\new-rdkit-env\\lib\\site-packages (from torch) (4.1.1)\n",
      "Installing collected packages: torch\n",
      "Successfully installed torch-1.11.0\n"
     ]
    }
   ],
   "source": [
    "!pip install torch"
   ]
  },
  {
   "cell_type": "code",
   "execution_count": 6,
   "metadata": {},
   "outputs": [
    {
     "name": "stdout",
     "output_type": "stream",
     "text": [
      "Collecting dgl\n",
      "  Downloading dgl-0.6.1-cp39-cp39-win_amd64.whl (3.1 MB)\n",
      "     ---------------------------------------- 3.1/3.1 MB 9.0 MB/s eta 0:00:00\n",
      "Requirement already satisfied: requests>=2.19.0 in c:\\pymol2\\envs\\new-rdkit-env\\lib\\site-packages (from dgl) (2.27.1)\n",
      "Requirement already satisfied: networkx>=2.1 in c:\\pymol2\\envs\\new-rdkit-env\\lib\\site-packages (from dgl) (2.7.1)\n",
      "Requirement already satisfied: scipy>=1.1.0 in c:\\pymol2\\envs\\new-rdkit-env\\lib\\site-packages (from dgl) (1.8.0)\n",
      "Requirement already satisfied: numpy>=1.14.0 in c:\\pymol2\\envs\\new-rdkit-env\\lib\\site-packages (from dgl) (1.22.3)\n",
      "Requirement already satisfied: idna<4,>=2.5 in c:\\pymol2\\envs\\new-rdkit-env\\lib\\site-packages (from requests>=2.19.0->dgl) (3.3)\n",
      "Requirement already satisfied: charset-normalizer~=2.0.0 in c:\\pymol2\\envs\\new-rdkit-env\\lib\\site-packages (from requests>=2.19.0->dgl) (2.0.12)\n",
      "Requirement already satisfied: urllib3<1.27,>=1.21.1 in c:\\pymol2\\envs\\new-rdkit-env\\lib\\site-packages (from requests>=2.19.0->dgl) (1.26.9)\n",
      "Requirement already satisfied: certifi>=2017.4.17 in c:\\pymol2\\envs\\new-rdkit-env\\lib\\site-packages (from requests>=2.19.0->dgl) (2021.10.8)\n",
      "Installing collected packages: dgl\n",
      "Successfully installed dgl-0.6.1\n"
     ]
    }
   ],
   "source": [
    "!pip install dgl"
   ]
  },
  {
   "cell_type": "markdown",
   "metadata": {},
   "source": [
    "### DATASET"
   ]
  },
  {
   "cell_type": "markdown",
   "metadata": {},
   "source": [
    "Датасеты со smiles строками: https://lifesci.dgl.ai/api/data.html"
   ]
  },
  {
   "cell_type": "code",
   "execution_count": 1,
   "metadata": {},
   "outputs": [
    {
     "name": "stderr",
     "output_type": "stream",
     "text": [
      "Using backend: pytorch\n"
     ]
    }
   ],
   "source": [
    "import dgllife"
   ]
  },
  {
   "cell_type": "code",
   "execution_count": 10,
   "metadata": {},
   "outputs": [
    {
     "name": "stderr",
     "output_type": "stream",
     "text": [
      "Using backend: pytorch\n"
     ]
    }
   ],
   "source": [
    "import os\n",
    "import rdkit\n",
    "import numpy as np\n",
    "import pandas as pd\n",
    "import tqdm\n",
    "\n",
    "from rdkit.Chem import Draw\n",
    "from rdkit.Chem import AllChem\n",
    "from rdkit import Chem\n",
    "from dgllife.data import * \n",
    "from dgllife.utils import smiles_to_bigraph, CanonicalAtomFeaturizer"
   ]
  },
  {
   "cell_type": "code",
   "execution_count": 8,
   "metadata": {},
   "outputs": [],
   "source": [
    "datasets = [Tox21, ESOL, FreeSolv, Lipophilicity, PCBA, MUV, HIV, BACE, BBBP, ToxCast, SIDER, ClinTox]\n",
    "str_datasets = ['Tox21', 'ESOL', 'FreeSolv', 'Lipophilicity', 'PCBA', 'MUV', 'HIV', 'BACE', 'BBBP', 'ToxCast', 'SIDER', 'ClinTox']"
   ]
  },
  {
   "cell_type": "code",
   "execution_count": 10,
   "metadata": {},
   "outputs": [],
   "source": [
    "datasets_pair = zip(str_datasets, datasets)"
   ]
  },
  {
   "cell_type": "code",
   "execution_count": 24,
   "metadata": {},
   "outputs": [],
   "source": [
    "def load_dataset(name, dataset):\n",
    "    loaded_dataset = dataset(smiles_to_bigraph, CanonicalAtomFeaturizer(), load=True, n_jobs=2)\n",
    "    smiles = [] \n",
    "    mols = []\n",
    "    targets = []\n",
    "    mask = []\n",
    "    for item in loaded_dataset:\n",
    "        smiles.append(item[0])\n",
    "        mols.append(Chem.MolFromSmiles(item[0]))\n",
    "        targets.append(item[2].numpy())\n",
    "        if len(item) >= 4:\n",
    "            mask.append(item[3].numpy())\n",
    "    \n",
    "    loaded_dataset = None\n",
    "    \n",
    "    if name not in os.listdir('dataset'):\n",
    "        os.mkdir(os.path.join('dataset', name))\n",
    "    \n",
    "    folder = os.path.join('dataset', name)\n",
    "    \n",
    "    if 'data.sdf' not in os.listdir(folder):\n",
    "        with Chem.SDWriter(os.path.join(folder, 'data.sdf')) as w:\n",
    "            for m in mols:\n",
    "                w.write(m)\n",
    "\n",
    "    if 'smiles.csv' not in os.listdir(folder):\n",
    "        pd.DataFrame(smiles).to_csv(os.path.join(folder, 'smiles.csv'), header=None, index=False)\n",
    "    \n",
    "    if 'targets.csv' not in os.listdir(folder):\n",
    "        pd.DataFrame(targets).to_csv(os.path.join(folder, 'targets.csv'), header=None, index=False)\n",
    "    \n",
    "    if len(mask) > 0 and 'mask.csv' not in os.listdir(folder):\n",
    "        pd.DataFrame(mask).to_csv(os.path.join(folder, 'mask.csv'), header=None, index=False)"
   ]
  },
  {
   "cell_type": "code",
   "execution_count": null,
   "metadata": {},
   "outputs": [
    {
     "name": "stdout",
     "output_type": "stream",
     "text": [
      "Processing dgl graphs from scratch...\n",
      "Processing molecule 1000/7831\n",
      "Processing molecule 2000/7831\n",
      "Processing molecule 3000/7831\n",
      "Processing molecule 4000/7831\n",
      "Processing molecule 5000/7831\n",
      "Processing molecule 6000/7831\n",
      "Processing molecule 7000/7831\n",
      "Downloading C:\\Users\\Logge\\.dgl/ESOL.zip from https://data.dgl.ai/dataset/ESOL.zip...\n",
      "Extracting file to C:\\Users\\Logge\\.dgl/ESOL\n",
      "Processing dgl graphs from scratch...\n",
      "Processing molecule 1000/1128\n",
      "Downloading C:\\Users\\Logge\\.dgl/FreeSolv.zip from https://data.dgl.ai/dataset/FreeSolv.zip...\n",
      "Extracting file to C:\\Users\\Logge\\.dgl/FreeSolv\n",
      "Processing dgl graphs from scratch...\n",
      "Downloading C:\\Users\\Logge\\.dgl/lipophilicity.zip from https://data.dgl.ai/dataset/lipophilicity.zip...\n",
      "Extracting file to C:\\Users\\Logge\\.dgl/lipophilicity\n",
      "Processing dgl graphs from scratch...\n",
      "Processing molecule 1000/4200\n",
      "Processing molecule 2000/4200\n",
      "Processing molecule 3000/4200\n",
      "Processing molecule 4000/4200\n",
      "Downloading C:\\Users\\Logge\\.dgl/pcba.zip from https://data.dgl.ai/dataset/pcba.zip...\n",
      "Extracting file to C:\\Users\\Logge\\.dgl/pcba\n",
      "Processing dgl graphs from scratch...\n",
      "Processing molecule 1000/437929\n",
      "Processing molecule 2000/437929\n",
      "Processing molecule 3000/437929\n",
      "Processing molecule 4000/437929\n",
      "Processing molecule 5000/437929\n",
      "Processing molecule 6000/437929\n",
      "Processing molecule 7000/437929\n",
      "Processing molecule 8000/437929\n",
      "Processing molecule 9000/437929\n",
      "Processing molecule 10000/437929\n",
      "Processing molecule 11000/437929\n",
      "Processing molecule 12000/437929\n",
      "Processing molecule 13000/437929\n",
      "Processing molecule 14000/437929\n",
      "Processing molecule 15000/437929\n",
      "Processing molecule 16000/437929\n",
      "Processing molecule 17000/437929\n",
      "Processing molecule 18000/437929\n",
      "Processing molecule 19000/437929\n",
      "Processing molecule 20000/437929\n",
      "Processing molecule 21000/437929\n",
      "Processing molecule 22000/437929\n",
      "Processing molecule 23000/437929\n",
      "Processing molecule 24000/437929\n",
      "Processing molecule 25000/437929\n",
      "Processing molecule 26000/437929\n",
      "Processing molecule 27000/437929\n",
      "Processing molecule 28000/437929\n",
      "Processing molecule 29000/437929\n",
      "Processing molecule 30000/437929\n",
      "Processing molecule 31000/437929\n",
      "Processing molecule 32000/437929\n",
      "Processing molecule 33000/437929\n",
      "Processing molecule 34000/437929\n",
      "Processing molecule 35000/437929\n",
      "Processing molecule 36000/437929\n",
      "Processing molecule 37000/437929\n",
      "Processing molecule 38000/437929\n",
      "Processing molecule 39000/437929\n",
      "Processing molecule 40000/437929\n",
      "Processing molecule 41000/437929\n",
      "Processing molecule 42000/437929\n",
      "Processing molecule 43000/437929\n",
      "Processing molecule 44000/437929\n",
      "Processing molecule 45000/437929\n",
      "Processing molecule 46000/437929\n",
      "Processing molecule 47000/437929\n",
      "Processing molecule 48000/437929\n",
      "Processing molecule 49000/437929\n",
      "Processing molecule 50000/437929\n",
      "Processing molecule 51000/437929\n",
      "Processing molecule 52000/437929\n",
      "Processing molecule 53000/437929\n",
      "Processing molecule 54000/437929\n",
      "Processing molecule 55000/437929\n",
      "Processing molecule 56000/437929\n",
      "Processing molecule 57000/437929\n",
      "Processing molecule 58000/437929\n",
      "Processing molecule 59000/437929\n",
      "Processing molecule 60000/437929\n",
      "Processing molecule 61000/437929\n",
      "Processing molecule 62000/437929\n",
      "Processing molecule 63000/437929\n",
      "Processing molecule 64000/437929\n",
      "Processing molecule 65000/437929\n",
      "Processing molecule 66000/437929\n",
      "Processing molecule 67000/437929\n",
      "Processing molecule 68000/437929\n",
      "Processing molecule 69000/437929\n",
      "Processing molecule 70000/437929\n",
      "Processing molecule 71000/437929\n",
      "Processing molecule 72000/437929\n",
      "Processing molecule 73000/437929\n",
      "Processing molecule 74000/437929\n",
      "Processing molecule 75000/437929\n",
      "Processing molecule 76000/437929\n",
      "Processing molecule 77000/437929\n",
      "Processing molecule 78000/437929\n",
      "Processing molecule 79000/437929\n",
      "Processing molecule 80000/437929\n",
      "Processing molecule 81000/437929\n",
      "Processing molecule 82000/437929\n",
      "Processing molecule 83000/437929\n",
      "Processing molecule 84000/437929\n",
      "Processing molecule 85000/437929\n",
      "Processing molecule 86000/437929\n",
      "Processing molecule 87000/437929\n",
      "Processing molecule 88000/437929\n",
      "Processing molecule 89000/437929\n",
      "Processing molecule 90000/437929\n",
      "Processing molecule 91000/437929\n",
      "Processing molecule 92000/437929\n",
      "Processing molecule 93000/437929\n",
      "Processing molecule 94000/437929\n",
      "Processing molecule 95000/437929\n",
      "Processing molecule 96000/437929\n",
      "Processing molecule 97000/437929\n",
      "Processing molecule 98000/437929\n",
      "Processing molecule 99000/437929\n",
      "Processing molecule 100000/437929\n",
      "Processing molecule 101000/437929\n",
      "Processing molecule 102000/437929\n",
      "Processing molecule 103000/437929\n",
      "Processing molecule 104000/437929\n",
      "Processing molecule 105000/437929\n",
      "Processing molecule 106000/437929\n",
      "Processing molecule 107000/437929\n",
      "Processing molecule 108000/437929\n",
      "Processing molecule 109000/437929\n",
      "Processing molecule 110000/437929\n",
      "Processing molecule 111000/437929\n",
      "Processing molecule 112000/437929\n",
      "Processing molecule 113000/437929\n",
      "Processing molecule 114000/437929\n",
      "Processing molecule 115000/437929\n",
      "Processing molecule 116000/437929\n",
      "Processing molecule 117000/437929\n",
      "Processing molecule 118000/437929\n",
      "Processing molecule 119000/437929\n",
      "Processing molecule 120000/437929\n",
      "Processing molecule 121000/437929\n",
      "Processing molecule 122000/437929\n",
      "Processing molecule 123000/437929\n",
      "Processing molecule 124000/437929\n",
      "Processing molecule 125000/437929\n",
      "Processing molecule 126000/437929\n",
      "Processing molecule 127000/437929\n",
      "Processing molecule 128000/437929\n",
      "Processing molecule 129000/437929\n",
      "Processing molecule 130000/437929\n",
      "Processing molecule 131000/437929\n",
      "Processing molecule 132000/437929\n",
      "Processing molecule 133000/437929\n",
      "Processing molecule 134000/437929\n",
      "Processing molecule 135000/437929\n",
      "Processing molecule 136000/437929\n",
      "Processing molecule 137000/437929\n",
      "Processing molecule 138000/437929\n",
      "Processing molecule 139000/437929\n",
      "Processing molecule 140000/437929\n",
      "Processing molecule 141000/437929\n",
      "Processing molecule 142000/437929\n",
      "Processing molecule 143000/437929\n",
      "Processing molecule 144000/437929\n",
      "Processing molecule 145000/437929\n",
      "Processing molecule 146000/437929\n",
      "Processing molecule 147000/437929\n",
      "Processing molecule 148000/437929\n",
      "Processing molecule 149000/437929\n",
      "Processing molecule 150000/437929\n",
      "Processing molecule 151000/437929\n",
      "Processing molecule 152000/437929\n",
      "Processing molecule 153000/437929\n",
      "Processing molecule 154000/437929\n",
      "Processing molecule 155000/437929\n",
      "Processing molecule 156000/437929\n",
      "Processing molecule 157000/437929\n",
      "Processing molecule 158000/437929\n",
      "Processing molecule 159000/437929\n",
      "Processing molecule 160000/437929\n",
      "Processing molecule 161000/437929\n",
      "Processing molecule 162000/437929\n",
      "Processing molecule 163000/437929\n",
      "Processing molecule 164000/437929\n",
      "Processing molecule 165000/437929\n",
      "Processing molecule 166000/437929\n",
      "Processing molecule 167000/437929\n",
      "Processing molecule 168000/437929\n",
      "Processing molecule 169000/437929\n",
      "Processing molecule 170000/437929\n",
      "Processing molecule 171000/437929\n",
      "Processing molecule 172000/437929\n",
      "Processing molecule 173000/437929\n",
      "Processing molecule 174000/437929\n",
      "Processing molecule 175000/437929\n",
      "Processing molecule 176000/437929\n",
      "Processing molecule 177000/437929\n",
      "Processing molecule 178000/437929\n",
      "Processing molecule 179000/437929\n",
      "Processing molecule 180000/437929\n",
      "Processing molecule 181000/437929\n",
      "Processing molecule 182000/437929\n",
      "Processing molecule 183000/437929\n",
      "Processing molecule 184000/437929\n",
      "Processing molecule 185000/437929\n",
      "Processing molecule 186000/437929\n",
      "Processing molecule 187000/437929\n",
      "Processing molecule 188000/437929\n",
      "Processing molecule 189000/437929\n",
      "Processing molecule 190000/437929\n",
      "Processing molecule 191000/437929\n",
      "Processing molecule 192000/437929\n",
      "Processing molecule 193000/437929\n",
      "Processing molecule 194000/437929\n",
      "Processing molecule 195000/437929\n",
      "Processing molecule 196000/437929\n",
      "Processing molecule 197000/437929\n",
      "Processing molecule 198000/437929\n",
      "Processing molecule 199000/437929\n",
      "Processing molecule 200000/437929\n",
      "Processing molecule 201000/437929\n",
      "Processing molecule 202000/437929\n",
      "Processing molecule 203000/437929\n",
      "Processing molecule 204000/437929\n",
      "Processing molecule 205000/437929\n",
      "Processing molecule 206000/437929\n",
      "Processing molecule 207000/437929\n",
      "Processing molecule 208000/437929\n",
      "Processing molecule 209000/437929\n",
      "Processing molecule 210000/437929\n",
      "Processing molecule 211000/437929\n",
      "Processing molecule 212000/437929\n"
     ]
    },
    {
     "name": "stdout",
     "output_type": "stream",
     "text": [
      "Processing molecule 213000/437929\n",
      "Processing molecule 214000/437929\n",
      "Processing molecule 215000/437929\n",
      "Processing molecule 216000/437929\n",
      "Processing molecule 217000/437929\n",
      "Processing molecule 218000/437929\n",
      "Processing molecule 219000/437929\n",
      "Processing molecule 220000/437929\n",
      "Processing molecule 221000/437929\n",
      "Processing molecule 222000/437929\n",
      "Processing molecule 223000/437929\n",
      "Processing molecule 224000/437929\n",
      "Processing molecule 225000/437929\n",
      "Processing molecule 226000/437929\n",
      "Processing molecule 227000/437929\n",
      "Processing molecule 228000/437929\n",
      "Processing molecule 229000/437929\n",
      "Processing molecule 230000/437929\n",
      "Processing molecule 231000/437929\n",
      "Processing molecule 232000/437929\n",
      "Processing molecule 233000/437929\n",
      "Processing molecule 234000/437929\n",
      "Processing molecule 235000/437929\n",
      "Processing molecule 236000/437929\n",
      "Processing molecule 237000/437929\n",
      "Processing molecule 238000/437929\n",
      "Processing molecule 239000/437929\n",
      "Processing molecule 240000/437929\n",
      "Processing molecule 241000/437929\n",
      "Processing molecule 242000/437929\n",
      "Processing molecule 243000/437929\n",
      "Processing molecule 244000/437929\n",
      "Processing molecule 245000/437929\n",
      "Processing molecule 246000/437929\n",
      "Processing molecule 247000/437929\n",
      "Processing molecule 248000/437929\n",
      "Processing molecule 249000/437929\n",
      "Processing molecule 250000/437929\n",
      "Processing molecule 251000/437929\n",
      "Processing molecule 252000/437929\n",
      "Processing molecule 253000/437929\n",
      "Processing molecule 254000/437929\n",
      "Processing molecule 255000/437929\n",
      "Processing molecule 256000/437929\n",
      "Processing molecule 257000/437929\n",
      "Processing molecule 258000/437929\n",
      "Processing molecule 259000/437929\n",
      "Processing molecule 260000/437929\n",
      "Processing molecule 261000/437929\n",
      "Processing molecule 262000/437929\n",
      "Processing molecule 263000/437929\n",
      "Processing molecule 264000/437929\n",
      "Processing molecule 265000/437929\n",
      "Processing molecule 266000/437929\n",
      "Processing molecule 267000/437929\n",
      "Processing molecule 268000/437929\n",
      "Processing molecule 269000/437929\n",
      "Processing molecule 270000/437929\n",
      "Processing molecule 271000/437929\n",
      "Processing molecule 272000/437929\n",
      "Processing molecule 273000/437929\n",
      "Processing molecule 274000/437929\n",
      "Processing molecule 275000/437929\n",
      "Processing molecule 276000/437929\n",
      "Processing molecule 277000/437929\n",
      "Processing molecule 278000/437929\n",
      "Processing molecule 279000/437929\n",
      "Processing molecule 280000/437929\n",
      "Processing molecule 281000/437929\n",
      "Processing molecule 282000/437929\n",
      "Processing molecule 283000/437929\n",
      "Processing molecule 284000/437929\n",
      "Processing molecule 285000/437929\n",
      "Processing molecule 286000/437929\n",
      "Processing molecule 287000/437929\n",
      "Processing molecule 288000/437929\n",
      "Processing molecule 289000/437929\n",
      "Processing molecule 290000/437929\n",
      "Processing molecule 291000/437929\n",
      "Processing molecule 292000/437929\n",
      "Processing molecule 293000/437929\n",
      "Processing molecule 294000/437929\n",
      "Processing molecule 295000/437929\n",
      "Processing molecule 296000/437929\n",
      "Processing molecule 297000/437929\n",
      "Processing molecule 298000/437929\n",
      "Processing molecule 299000/437929\n",
      "Processing molecule 300000/437929\n",
      "Processing molecule 301000/437929\n",
      "Processing molecule 302000/437929\n",
      "Processing molecule 303000/437929\n",
      "Processing molecule 304000/437929\n",
      "Processing molecule 305000/437929\n",
      "Processing molecule 306000/437929\n",
      "Processing molecule 307000/437929\n",
      "Processing molecule 308000/437929\n",
      "Processing molecule 309000/437929\n",
      "Processing molecule 310000/437929\n",
      "Processing molecule 311000/437929\n",
      "Processing molecule 312000/437929\n",
      "Processing molecule 313000/437929\n",
      "Processing molecule 314000/437929\n",
      "Processing molecule 315000/437929\n",
      "Processing molecule 316000/437929\n",
      "Processing molecule 317000/437929\n",
      "Processing molecule 318000/437929\n",
      "Processing molecule 319000/437929\n",
      "Processing molecule 320000/437929\n",
      "Processing molecule 321000/437929\n",
      "Processing molecule 322000/437929\n",
      "Processing molecule 323000/437929\n",
      "Processing molecule 324000/437929\n",
      "Processing molecule 325000/437929\n",
      "Processing molecule 326000/437929\n",
      "Processing molecule 327000/437929\n",
      "Processing molecule 328000/437929\n",
      "Processing molecule 329000/437929\n",
      "Processing molecule 330000/437929\n",
      "Processing molecule 331000/437929\n",
      "Processing molecule 332000/437929\n",
      "Processing molecule 333000/437929\n",
      "Processing molecule 334000/437929\n",
      "Processing molecule 335000/437929\n",
      "Processing molecule 336000/437929\n",
      "Processing molecule 337000/437929\n",
      "Processing molecule 338000/437929\n",
      "Processing molecule 339000/437929\n",
      "Processing molecule 340000/437929\n",
      "Processing molecule 341000/437929\n",
      "Processing molecule 342000/437929\n",
      "Processing molecule 343000/437929\n",
      "Processing molecule 344000/437929\n",
      "Processing molecule 345000/437929\n",
      "Processing molecule 346000/437929\n",
      "Processing molecule 347000/437929\n",
      "Processing molecule 348000/437929\n",
      "Processing molecule 349000/437929\n",
      "Processing molecule 350000/437929\n",
      "Processing molecule 351000/437929\n",
      "Processing molecule 352000/437929\n",
      "Processing molecule 353000/437929\n",
      "Processing molecule 354000/437929\n",
      "Processing molecule 355000/437929\n",
      "Processing molecule 356000/437929\n",
      "Processing molecule 357000/437929\n",
      "Processing molecule 358000/437929\n",
      "Processing molecule 359000/437929\n",
      "Processing molecule 360000/437929\n",
      "Processing molecule 361000/437929\n",
      "Processing molecule 362000/437929\n",
      "Processing molecule 363000/437929\n",
      "Processing molecule 364000/437929\n",
      "Processing molecule 365000/437929\n",
      "Processing molecule 366000/437929\n",
      "Processing molecule 367000/437929\n",
      "Processing molecule 368000/437929\n",
      "Processing molecule 369000/437929\n",
      "Processing molecule 370000/437929\n",
      "Processing molecule 371000/437929\n",
      "Processing molecule 372000/437929\n",
      "Processing molecule 373000/437929\n",
      "Processing molecule 374000/437929\n",
      "Processing molecule 375000/437929\n",
      "Processing molecule 376000/437929\n",
      "Processing molecule 377000/437929\n",
      "Processing molecule 378000/437929\n",
      "Processing molecule 379000/437929\n",
      "Processing molecule 380000/437929\n",
      "Processing molecule 381000/437929\n",
      "Processing molecule 382000/437929\n",
      "Processing molecule 383000/437929\n",
      "Processing molecule 384000/437929\n",
      "Processing molecule 385000/437929\n",
      "Processing molecule 386000/437929\n",
      "Processing molecule 387000/437929\n",
      "Processing molecule 388000/437929\n",
      "Processing molecule 389000/437929\n",
      "Processing molecule 390000/437929\n",
      "Processing molecule 391000/437929\n",
      "Processing molecule 392000/437929\n",
      "Processing molecule 393000/437929\n",
      "Processing molecule 394000/437929\n",
      "Processing molecule 395000/437929\n",
      "Processing molecule 396000/437929\n",
      "Processing molecule 397000/437929\n",
      "Processing molecule 398000/437929\n",
      "Processing molecule 399000/437929\n",
      "Processing molecule 400000/437929\n",
      "Processing molecule 401000/437929\n",
      "Processing molecule 402000/437929\n",
      "Processing molecule 403000/437929\n",
      "Processing molecule 404000/437929\n",
      "Processing molecule 405000/437929\n",
      "Processing molecule 406000/437929\n",
      "Processing molecule 407000/437929\n",
      "Processing molecule 408000/437929\n",
      "Processing molecule 409000/437929\n",
      "Processing molecule 410000/437929\n",
      "Processing molecule 411000/437929\n",
      "Processing molecule 412000/437929\n",
      "Processing molecule 413000/437929\n",
      "Processing molecule 414000/437929\n",
      "Processing molecule 415000/437929\n",
      "Processing molecule 416000/437929\n",
      "Processing molecule 417000/437929\n",
      "Processing molecule 418000/437929\n",
      "Processing molecule 419000/437929\n",
      "Processing molecule 420000/437929\n",
      "Processing molecule 421000/437929\n",
      "Processing molecule 422000/437929\n",
      "Processing molecule 423000/437929\n",
      "Processing molecule 424000/437929\n",
      "Processing molecule 425000/437929\n",
      "Processing molecule 426000/437929\n",
      "Processing molecule 427000/437929\n",
      "Processing molecule 428000/437929\n",
      "Processing molecule 429000/437929\n",
      "Processing molecule 430000/437929\n",
      "Processing molecule 431000/437929\n",
      "Processing molecule 432000/437929\n",
      "Processing molecule 433000/437929\n",
      "Processing molecule 434000/437929\n",
      "Processing molecule 435000/437929\n",
      "Processing molecule 436000/437929\n",
      "Processing molecule 437000/437929\n"
     ]
    }
   ],
   "source": [
    "for name, dataset in datasets_pair:\n",
    "    load_dataset(name, dataset)"
   ]
  },
  {
   "cell_type": "code",
   "execution_count": 25,
   "metadata": {},
   "outputs": [
    {
     "name": "stdout",
     "output_type": "stream",
     "text": [
      "Loading previously saved dgl graphs...\n",
      "Downloading C:\\Users\\Logge\\.dgl/hiv.zip from https://data.dgl.ai/dataset/hiv.zip...\n",
      "Extracting file to C:\\Users\\Logge\\.dgl/hiv\n",
      "Processing dgl graphs from scratch...\n"
     ]
    },
    {
     "name": "stderr",
     "output_type": "stream",
     "text": [
      "[Parallel(n_jobs=2)]: Using backend LokyBackend with 2 concurrent workers.\n",
      "[Parallel(n_jobs=2)]: Done 336 tasks      | elapsed:    8.9s\n",
      "[Parallel(n_jobs=2)]: Done 5136 tasks      | elapsed:   22.4s\n",
      "[Parallel(n_jobs=2)]: Done 13136 tasks      | elapsed:   47.7s\n",
      "[Parallel(n_jobs=2)]: Done 24336 tasks      | elapsed:  1.3min\n",
      "[Parallel(n_jobs=2)]: Done 38736 tasks      | elapsed:  2.1min\n",
      "[Parallel(n_jobs=2)]: Done 41127 out of 41127 | elapsed:  2.2min finished\n"
     ]
    },
    {
     "name": "stdout",
     "output_type": "stream",
     "text": [
      "Downloading C:\\Users\\Logge\\.dgl/bace.zip from https://data.dgl.ai/dataset/bace.zip...\n",
      "Extracting file to C:\\Users\\Logge\\.dgl/bace\n",
      "Processing dgl graphs from scratch...\n"
     ]
    },
    {
     "name": "stderr",
     "output_type": "stream",
     "text": [
      "[Parallel(n_jobs=2)]: Using backend LokyBackend with 2 concurrent workers.\n",
      "[Parallel(n_jobs=2)]: Done 956 tasks      | elapsed:    3.8s\n",
      "[Parallel(n_jobs=2)]: Done 1510 out of 1513 | elapsed:    5.8s remaining:    0.0s\n",
      "[Parallel(n_jobs=2)]: Done 1513 out of 1513 | elapsed:    5.8s finished\n"
     ]
    },
    {
     "name": "stdout",
     "output_type": "stream",
     "text": [
      "Downloading C:\\Users\\Logge\\.dgl/bbbp.zip from https://data.dgl.ai/dataset/bbbp.zip...\n",
      "Extracting file to C:\\Users\\Logge\\.dgl/bbbp\n",
      "Processing dgl graphs from scratch...\n"
     ]
    },
    {
     "name": "stderr",
     "output_type": "stream",
     "text": [
      "[Parallel(n_jobs=2)]: Using backend LokyBackend with 2 concurrent workers.\n",
      "[Parallel(n_jobs=2)]: Done 956 tasks      | elapsed:    2.6s\n",
      "[Parallel(n_jobs=2)]: Done 2050 out of 2050 | elapsed:    5.0s finished\n"
     ]
    },
    {
     "name": "stdout",
     "output_type": "stream",
     "text": [
      "Downloading C:\\Users\\Logge\\.dgl/toxcast.zip from https://data.dgl.ai/dataset/toxcast.zip...\n",
      "Extracting file to C:\\Users\\Logge\\.dgl/toxcast\n",
      "Processing dgl graphs from scratch...\n"
     ]
    },
    {
     "name": "stderr",
     "output_type": "stream",
     "text": [
      "[Parallel(n_jobs=2)]: Using backend LokyBackend with 2 concurrent workers.\n",
      "[Parallel(n_jobs=2)]: Done 956 tasks      | elapsed:    2.1s\n",
      "[Parallel(n_jobs=2)]: Done 5756 tasks      | elapsed:   12.9s\n",
      "[Parallel(n_jobs=2)]: Done 8597 out of 8597 | elapsed:   19.4s finished\n"
     ]
    },
    {
     "name": "stdout",
     "output_type": "stream",
     "text": [
      "Downloading C:\\Users\\Logge\\.dgl/sider.zip from https://data.dgl.ai/dataset/sider.zip...\n",
      "Extracting file to C:\\Users\\Logge\\.dgl/sider\n",
      "Processing dgl graphs from scratch...\n"
     ]
    },
    {
     "name": "stderr",
     "output_type": "stream",
     "text": [
      "[Parallel(n_jobs=2)]: Using backend LokyBackend with 2 concurrent workers.\n",
      "[Parallel(n_jobs=2)]: Done 1345 tasks      | elapsed:    3.3s\n",
      "[Parallel(n_jobs=2)]: Done 1427 out of 1427 | elapsed:    3.5s finished\n"
     ]
    },
    {
     "name": "stdout",
     "output_type": "stream",
     "text": [
      "Downloading C:\\Users\\Logge\\.dgl/clintox.zip from https://data.dgl.ai/dataset/clintox.zip...\n",
      "Extracting file to C:\\Users\\Logge\\.dgl/clintox\n",
      "Processing dgl graphs from scratch...\n"
     ]
    },
    {
     "name": "stderr",
     "output_type": "stream",
     "text": [
      "[Parallel(n_jobs=2)]: Using backend LokyBackend with 2 concurrent workers.\n",
      "[Parallel(n_jobs=2)]: Done 1360 tasks      | elapsed:    4.2s\n",
      "[Parallel(n_jobs=2)]: Done 1484 out of 1484 | elapsed:    4.4s finished\n"
     ]
    }
   ],
   "source": [
    "for name, dataset in zip(str_datasets[5:], datasets[5:]):\n",
    "    load_dataset(name, dataset)"
   ]
  },
  {
   "cell_type": "code",
   "execution_count": 26,
   "metadata": {},
   "outputs": [
    {
     "name": "stdout",
     "output_type": "stream",
     "text": [
      "Loading previously saved dgl graphs...\n"
     ]
    }
   ],
   "source": [
    "load_dataset(str_datasets[4], datasets[4])"
   ]
  },
  {
   "cell_type": "markdown",
   "metadata": {},
   "source": [
    "### DeepChem QM Dataset"
   ]
  },
  {
   "cell_type": "code",
   "execution_count": 27,
   "metadata": {},
   "outputs": [],
   "source": [
    "from deepchem.molnet.load_function.qm9_datasets import load_qm9\n",
    "from deepchem.molnet.load_function.qm7_datasets import load_qm7"
   ]
  },
  {
   "cell_type": "code",
   "execution_count": 58,
   "metadata": {},
   "outputs": [],
   "source": [
    "def process_qm_dataset(ind):\n",
    "    folder = os.path.join('dataset', f'QM{ind}')\n",
    "\n",
    "    qm7 = pd.read_csv(os.path.join(folder, f'qm{ind}.csv'))\n",
    "\n",
    "    qm7['smiles'].to_csv(os.path.join(folder, 'smiles.csv'), header=None, index=False)\n",
    "\n",
    "    qm7.iloc[:, 1:].to_csv(os.path.join(folder, 'targets.csv'), header=None, index=False)\n",
    "\n",
    "    mols = []\n",
    "    for smile in qm7['smiles']:\n",
    "        mols.append(Chem.MolFromSmiles(smile))\n",
    "\n",
    "    with Chem.SDWriter(os.path.join(folder, 'data.sdf')) as w:\n",
    "        for m in mols:\n",
    "            w.write(m)"
   ]
  },
  {
   "cell_type": "code",
   "execution_count": 59,
   "metadata": {},
   "outputs": [],
   "source": [
    "process_qm_dataset(8)"
   ]
  },
  {
   "cell_type": "code",
   "execution_count": 60,
   "metadata": {},
   "outputs": [],
   "source": [
    "process_qm_dataset(9)"
   ]
  },
  {
   "cell_type": "code",
   "execution_count": 61,
   "metadata": {},
   "outputs": [
    {
     "name": "stdout",
     "output_type": "stream",
     "text": [
      "133885 133885\n"
     ]
    },
    {
     "name": "stderr",
     "output_type": "stream",
     "text": [
      "100%|██████████████████████████████████████████████████████████| 133885/133885 [34:40<00:00, 64.34it/s]\n"
     ]
    }
   ],
   "source": [
    "data = pd.DataFrame({})\n",
    "analize_sdf_file(data, 'dataset/QM9/data.sdf', '     RDKit          2D\\n', chain_num=1, neighbors=True, connections=True)\n",
    "data = data.fillna(0)\n",
    "s = sorted(data.columns)\n",
    "data = data[sorted(s, key = lambda name: len(name))]"
   ]
  },
  {
   "cell_type": "markdown",
   "metadata": {},
   "source": [
    "### SDF Parser"
   ]
  },
  {
   "cell_type": "code",
   "execution_count": 15,
   "metadata": {},
   "outputs": [],
   "source": [
    "#анализируем .sdf файл\n",
    "\n",
    "\n",
    "def conn_type_big(comm, atom, connections):\n",
    "    num_of_double = 0\n",
    "    num_of_triple = 0\n",
    "    if connections == False:\n",
    "        return '*'\n",
    "    for row in comm:\n",
    "        if row[0] == atom or row[1] == atom:\n",
    "            if row[2] == 2:\n",
    "                num_of_double += 1\n",
    "            elif row[2] == 3:\n",
    "                num_of_triple += 1\n",
    "    if num_of_double == 0 and num_of_triple == 0:\n",
    "        return 's'\n",
    "    elif num_of_double == 1 and num_of_triple == 0:\n",
    "        return 'd'\n",
    "    elif num_of_double >= 2 and num_of_triple == 0:\n",
    "        return 'w'\n",
    "    elif num_of_triple > 0:\n",
    "        return 't'\n",
    "    else:\n",
    "        print('WHAT')\n",
    "        return '?'\n",
    "\n",
    "\n",
    "def analize_sdf_file(mols, file, key, chain_num, neighbors=True, connections=True):\n",
    "    with open(file) as f:\n",
    "        #lines = f.readlines()\n",
    "        begin = []\n",
    "        end = []\n",
    "        lines = []\n",
    "        i = 0\n",
    "\n",
    "        for line in f.readlines():\n",
    "            if line.startswith(\"M\") and not line.startswith(\"M  END\"):\n",
    "                continue\n",
    "            \n",
    "            if line.startswith(key):\n",
    "                begin.append(i)\n",
    "                \n",
    "            if line == 'M  END\\n':\n",
    "                end.append(i)\n",
    "                \n",
    "            lines.append(line)\n",
    "            i +=1 \n",
    "\n",
    "        print(len(begin), len(end))\n",
    "        assert len(begin) == len(end)\n",
    "        \n",
    "        for molecula in tqdm.tqdm(range(len(begin))):\n",
    "            num_of_atoms = int(lines[begin[molecula]+2][:3])\n",
    "            num_of_edges = int(lines[begin[molecula]+2][3:6])\n",
    "            \n",
    "            #num_of_atoms = int(list(lines[begin[molecula]+2].split())[0])\n",
    "            #num_of_edges = int(list(lines[begin[molecula]+2].split())[1])\n",
    "            beg = num_of_atoms + begin[molecula] + 3\n",
    "            connect = []\n",
    "            nums_to_names = dict()\n",
    "            nums_to_names2 = dict()\n",
    "            nums_to_names3 = dict()\n",
    "            for i in range(end[molecula]-beg):\n",
    "                #print(lines[beg+i])\n",
    "                id_1 = int(lines[beg+i][:3])\n",
    "                id_2 = int(lines[beg+i][3:6])\n",
    "                type_1_2 = int(lines[beg+i][6:].split()[0])\n",
    "                \n",
    "                #print(list(lines[beg+i].split())[0:3])\n",
    "                connect.append([id_1, id_2, type_1_2])\n",
    "            \n",
    "            # 1-цепочки\n",
    "            for atom in range(1, num_of_atoms+1):\n",
    "                #print(begin[molecula]+2+atom, lines[begin[molecula]+2+atom])\n",
    "                \n",
    "                #NN = lines[begin[molecula]+2+atom][6:].split()[0]#.split()[3]\n",
    "                NN = lines[begin[molecula]+2+atom].split()[3]\n",
    "                if len(NN) == 1:\n",
    "                    NN = NN + '_'\n",
    "                num_of_neighbors = 0\n",
    "                for row in connect:\n",
    "                    if atom == row[0] or atom == row[1]:\n",
    "                        num_of_neighbors += 1\n",
    "                num_of_neighbors = str(num_of_neighbors)\n",
    "                type_of_connection = conn_type_big(connect, atom, connections)\n",
    "                name = NN\n",
    "                if neighbors == True:\n",
    "                    name += num_of_neighbors\n",
    "                else:\n",
    "                    name += '*'\n",
    "                name += type_of_connection + '*'\n",
    "#                 name = NN + num_of_neighbors + type_of_connection + '*'\n",
    "                nums_to_names[atom] = name\n",
    "                if molecula in mols.index:\n",
    "                    if name in mols.columns:\n",
    "                        if np.isnan(mols[name][molecula]):\n",
    "                            mols.loc[molecula, name] = 1\n",
    "                        else:\n",
    "                            mols.loc[molecula, name] += 1\n",
    "                    else:\n",
    "                        mols.loc[molecula, name] = 1\n",
    "                else:\n",
    "                    mols.loc[molecula, name] = 1\n",
    "                    \n",
    "            # 2-цепочки\n",
    "            if chain_num > 1:\n",
    "                for atom in range(1, num_of_atoms+1):\n",
    "                    for row in connect:\n",
    "                        if (row[0] == atom and row[1] > atom) or (row[1] == atom and row[0] > atom):\n",
    "                            NNmas = sorted([nums_to_names[row[0]], nums_to_names[row[1]]])\n",
    "                            NN = NNmas[0] + NNmas[1]\n",
    "                            name = NN\n",
    "    #                         if row[2] == 1:\n",
    "    #                             name = NN + '_s'\n",
    "    #                         elif row[2] == 2:\n",
    "    #                             name = NN + '_d'\n",
    "    #                         elif row[2] == 3:\n",
    "    #                             name == NN + '_t'\n",
    "    #                         else:\n",
    "    #                             name == NN + '_?'\n",
    "                            nums_to_names2[tuple(sorted((row[0], row[1])))] = name\n",
    "                            if molecula in mols.index:\n",
    "                                if name in mols.columns:\n",
    "                                    if np.isnan(mols[name][molecula]):\n",
    "                                        mols.loc[molecula, name] = 1\n",
    "                                    else:\n",
    "                                        mols.loc[molecula, name] += 1\n",
    "                                else:\n",
    "                                    mols.loc[molecula, name] = 1\n",
    "                            else:\n",
    "                                mols.loc[molecula, name] = 1\n",
    "            # 3-цепочки\n",
    "            if chain_num > 2:\n",
    "                for pair in nums_to_names2.keys():\n",
    "                    for row in connect:\n",
    "                        if (row[0] == pair[0] and row[1] > pair[1]) or (row[0] == pair[1] and row[1] > pair[0]):\n",
    "                            if nums_to_names3.get(tuple(sorted([pair[0], pair[1], row[1]])), -1) == -1:                          \n",
    "                                NNmas = sorted([nums_to_names2[pair], nums_to_names[row[1]]])\n",
    "                                name = NNmas[0] + NNmas[1]\n",
    "                                nums_to_names3[tuple(sorted([pair[0], pair[1], row[1]]))] = name\n",
    "                        if (row[1] == pair[0] and row[0] > pair[1]) or (row[1] == pair[1] and row[0] > pair[0]):\n",
    "                            if nums_to_names3.get(tuple(sorted([pair[0], pair[1], row[0]])), -1) == -1:                          \n",
    "                                NNmas = sorted([nums_to_names2[pair], nums_to_names[row[0]]])\n",
    "                                name = NNmas[0] + NNmas[1]\n",
    "                                nums_to_names3[tuple(sorted([pair[0], pair[1], row[0]]))] = name\n",
    "                        if molecula in mols.index:\n",
    "                            if name in mols.columns:\n",
    "                                if np.isnan(mols[name][molecula]):\n",
    "                                    mols.loc[molecula, name] = 1\n",
    "                                else:\n",
    "                                    mols.loc[molecula, name] += 1\n",
    "                            else:\n",
    "                                mols.loc[molecula, name] = 1\n",
    "                        else:\n",
    "                            mols.loc[molecula, name] = 1"
   ]
  },
  {
   "cell_type": "markdown",
   "metadata": {},
   "source": [
    "### Process Matrices"
   ]
  },
  {
   "cell_type": "code",
   "execution_count": 5,
   "metadata": {},
   "outputs": [],
   "source": [
    "from sklearn.model_selection import ParameterGrid"
   ]
  },
  {
   "cell_type": "code",
   "execution_count": 6,
   "metadata": {},
   "outputs": [],
   "source": [
    "def process_sdf_file(folder, args):\n",
    "    key = '     RDKit          2D\\n'\n",
    "    filename = os.path.join(folder, 'data.sdf')\n",
    "    \n",
    "    data = pd.DataFrame({})\n",
    "    analize_sdf_file(data, filename, key, **args)\n",
    "    data = data.fillna(0)\n",
    "    s = sorted(data.columns)\n",
    "    data = data[sorted(s, key = lambda name: len(name))]\n",
    "\n",
    "    markers = {}\n",
    "    markers['d'] = '_' if args['neighbors'] == False else 'd'\n",
    "    markers['b'] = '_' if args['connections'] == False else 'b'\n",
    "\n",
    "    output_filename = 'matrix_alphabet_NN'\n",
    "    output_filename +=  markers['d'] +  markers['b']\n",
    "    output_filename += f\"_{args['chain_num']}chains.csv\"\n",
    "\n",
    "    data.to_csv(os.path.join(folder, output_filename), sep=',', header=True, index=False)\n",
    "    \n",
    "    return (folder, args)"
   ]
  },
  {
   "cell_type": "code",
   "execution_count": 7,
   "metadata": {},
   "outputs": [],
   "source": [
    "param_grid = ParameterGrid({'chain_num' : [1, 2], 'neighbors' : [True, False], 'connections' : [True, False]})"
   ]
  },
  {
   "cell_type": "code",
   "execution_count": 143,
   "metadata": {},
   "outputs": [
    {
     "name": "stderr",
     "output_type": "stream",
     "text": [
      "100%|███████████████████████████████████████████████████████████████████████████████████████████████████████████████████████████████████████████████████████████████████████████████████████████████████| 7831/7831 [01:26<00:00, 90.86it/s]\n",
      "100%|███████████████████████████████████████████████████████████████████████████████████████████████████████████████████████████████████████████████████████████████████████████████████████████████████| 7831/7831 [01:28<00:00, 88.61it/s]\n",
      "100%|██████████████████████████████████████████████████████████████████████████████████████████████████████████████████████████████████████████████████████████████████████████████████████████████████| 7831/7831 [01:08<00:00, 114.83it/s]\n",
      "100%|██████████████████████████████████████████████████████████████████████████████████████████████████████████████████████████████████████████████████████████████████████████████████████████████████| 7831/7831 [00:58<00:00, 134.71it/s]\n",
      "100%|███████████████████████████████████████████████████████████████████████████████████████████████████████████████████████████████████████████████████████████████████████████████████████████████████| 7831/7831 [02:56<00:00, 44.26it/s]\n",
      "100%|███████████████████████████████████████████████████████████████████████████████████████████████████████████████████████████████████████████████████████████████████████████████████████████████████| 7831/7831 [02:07<00:00, 61.32it/s]\n",
      "100%|███████████████████████████████████████████████████████████████████████████████████████████████████████████████████████████████████████████████████████████████████████████████████████████████████| 7831/7831 [02:10<00:00, 59.83it/s]\n",
      "100%|███████████████████████████████████████████████████████████████████████████████████████████████████████████████████████████████████████████████████████████████████████████████████████████████████| 7831/7831 [01:58<00:00, 66.09it/s]\n"
     ]
    }
   ],
   "source": [
    "process_sdf_file('dataset/tox21', param_grid)"
   ]
  },
  {
   "cell_type": "markdown",
   "metadata": {},
   "source": [
    "### Multiprocess Processing"
   ]
  },
  {
   "cell_type": "code",
   "execution_count": 8,
   "metadata": {},
   "outputs": [],
   "source": [
    "str_datasets = ['QM7', 'QM8', 'QM9', 'ESOL', 'FreeSolv', 'Lipophilicity', 'MUV', 'HIV', 'BACE', 'BBBP', 'ToxCast', 'SIDER', 'ClinTox', 'PCBA']"
   ]
  },
  {
   "cell_type": "code",
   "execution_count": 11,
   "metadata": {},
   "outputs": [],
   "source": [
    "pool_args = []\n",
    "for folder in str_datasets:\n",
    "    for args in param_grid:\n",
    "        pool_args.append((os.path.join('dataset', folder), args))"
   ]
  },
  {
   "cell_type": "code",
   "execution_count": 12,
   "metadata": {},
   "outputs": [
    {
     "data": {
      "text/plain": [
       "[('dataset\\\\QM7', {'chain_num': 1, 'connections': True, 'neighbors': True}),\n",
       " ('dataset\\\\QM7', {'chain_num': 1, 'connections': True, 'neighbors': False})]"
      ]
     },
     "execution_count": 12,
     "metadata": {},
     "output_type": "execute_result"
    }
   ],
   "source": [
    "pool_args[:2]"
   ]
  },
  {
   "cell_type": "code",
   "execution_count": 13,
   "metadata": {},
   "outputs": [],
   "source": [
    "import multiprocessing\n",
    "from multiprocessing import Pool"
   ]
  },
  {
   "cell_type": "code",
   "execution_count": null,
   "metadata": {},
   "outputs": [],
   "source": [
    "with Pool(5) as pool:\n",
    "    for res in pool.starmap(process_sdf_file, pool_args[:2]):\n",
    "        print(res)"
   ]
  },
  {
   "cell_type": "code",
   "execution_count": null,
   "metadata": {},
   "outputs": [
    {
     "name": "stdout",
     "output_type": "stream",
     "text": [
      "6834 6834\n"
     ]
    },
    {
     "name": "stderr",
     "output_type": "stream",
     "text": [
      "100%|█████████████████████████████████████████████████████████████| 6834/6834 [00:07<00:00, 962.64it/s]\n"
     ]
    },
    {
     "name": "stdout",
     "output_type": "stream",
     "text": [
      "6834 6834\n"
     ]
    },
    {
     "name": "stderr",
     "output_type": "stream",
     "text": [
      "100%|████████████████████████████████████████████████████████████| 6834/6834 [00:06<00:00, 1014.00it/s]\n"
     ]
    },
    {
     "name": "stdout",
     "output_type": "stream",
     "text": [
      "6834 6834\n"
     ]
    },
    {
     "name": "stderr",
     "output_type": "stream",
     "text": [
      "100%|█████████████████████████████████████████████████████████████| 6834/6834 [00:06<00:00, 983.99it/s]\n"
     ]
    },
    {
     "name": "stdout",
     "output_type": "stream",
     "text": [
      "6834 6834\n"
     ]
    },
    {
     "name": "stderr",
     "output_type": "stream",
     "text": [
      "100%|█████████████████████████████████████████████████████████████| 6834/6834 [00:07<00:00, 872.06it/s]\n"
     ]
    },
    {
     "name": "stdout",
     "output_type": "stream",
     "text": [
      "6834 6834\n"
     ]
    },
    {
     "name": "stderr",
     "output_type": "stream",
     "text": [
      "100%|█████████████████████████████████████████████████████████████| 6834/6834 [00:26<00:00, 260.04it/s]\n"
     ]
    },
    {
     "name": "stdout",
     "output_type": "stream",
     "text": [
      "6834 6834\n"
     ]
    },
    {
     "name": "stderr",
     "output_type": "stream",
     "text": [
      "100%|█████████████████████████████████████████████████████████████| 6834/6834 [00:17<00:00, 383.40it/s]\n"
     ]
    },
    {
     "name": "stdout",
     "output_type": "stream",
     "text": [
      "6834 6834\n"
     ]
    },
    {
     "name": "stderr",
     "output_type": "stream",
     "text": [
      "100%|█████████████████████████████████████████████████████████████| 6834/6834 [00:17<00:00, 390.35it/s]\n"
     ]
    },
    {
     "name": "stdout",
     "output_type": "stream",
     "text": [
      "6834 6834\n"
     ]
    },
    {
     "name": "stderr",
     "output_type": "stream",
     "text": [
      "100%|█████████████████████████████████████████████████████████████| 6834/6834 [00:13<00:00, 489.28it/s]\n"
     ]
    },
    {
     "name": "stdout",
     "output_type": "stream",
     "text": [
      "21786 21786\n"
     ]
    },
    {
     "name": "stderr",
     "output_type": "stream",
     "text": [
      "100%|███████████████████████████████████████████████████████████| 21786/21786 [00:48<00:00, 453.38it/s]\n"
     ]
    },
    {
     "name": "stdout",
     "output_type": "stream",
     "text": [
      "21786 21786\n"
     ]
    },
    {
     "name": "stderr",
     "output_type": "stream",
     "text": [
      "100%|███████████████████████████████████████████████████████████| 21786/21786 [00:37<00:00, 586.68it/s]\n"
     ]
    },
    {
     "name": "stdout",
     "output_type": "stream",
     "text": [
      "21786 21786\n"
     ]
    },
    {
     "name": "stderr",
     "output_type": "stream",
     "text": [
      "100%|███████████████████████████████████████████████████████████| 21786/21786 [00:41<00:00, 529.05it/s]\n"
     ]
    },
    {
     "name": "stdout",
     "output_type": "stream",
     "text": [
      "21786 21786\n"
     ]
    },
    {
     "name": "stderr",
     "output_type": "stream",
     "text": [
      "100%|███████████████████████████████████████████████████████████| 21786/21786 [00:32<00:00, 675.47it/s]\n"
     ]
    },
    {
     "name": "stdout",
     "output_type": "stream",
     "text": [
      "21786 21786\n"
     ]
    },
    {
     "name": "stderr",
     "output_type": "stream",
     "text": [
      "100%|███████████████████████████████████████████████████████████| 21786/21786 [02:38<00:00, 137.72it/s]\n"
     ]
    },
    {
     "name": "stdout",
     "output_type": "stream",
     "text": [
      "21786 21786\n"
     ]
    },
    {
     "name": "stderr",
     "output_type": "stream",
     "text": [
      "100%|███████████████████████████████████████████████████████████| 21786/21786 [01:23<00:00, 259.84it/s]\n"
     ]
    },
    {
     "name": "stdout",
     "output_type": "stream",
     "text": [
      "21786 21786\n"
     ]
    },
    {
     "name": "stderr",
     "output_type": "stream",
     "text": [
      "100%|███████████████████████████████████████████████████████████| 21786/21786 [01:43<00:00, 210.99it/s]\n"
     ]
    },
    {
     "name": "stdout",
     "output_type": "stream",
     "text": [
      "21786 21786\n"
     ]
    },
    {
     "name": "stderr",
     "output_type": "stream",
     "text": [
      "100%|███████████████████████████████████████████████████████████| 21786/21786 [01:06<00:00, 328.63it/s]\n"
     ]
    },
    {
     "name": "stdout",
     "output_type": "stream",
     "text": [
      "133885 133885\n"
     ]
    },
    {
     "name": "stderr",
     "output_type": "stream",
     "text": [
      "100%|██████████████████████████████████████████████████████████| 133885/133885 [25:48<00:00, 86.44it/s]\n"
     ]
    },
    {
     "name": "stdout",
     "output_type": "stream",
     "text": [
      "133885 133885\n"
     ]
    },
    {
     "name": "stderr",
     "output_type": "stream",
     "text": [
      "100%|█████████████████████████████████████████████████████████| 133885/133885 [16:56<00:00, 131.67it/s]\n"
     ]
    },
    {
     "name": "stdout",
     "output_type": "stream",
     "text": [
      "133885 133885\n"
     ]
    },
    {
     "name": "stderr",
     "output_type": "stream",
     "text": [
      "100%|█████████████████████████████████████████████████████████| 133885/133885 [18:58<00:00, 117.61it/s]\n"
     ]
    },
    {
     "name": "stdout",
     "output_type": "stream",
     "text": [
      "133885 133885\n"
     ]
    },
    {
     "name": "stderr",
     "output_type": "stream",
     "text": [
      "100%|█████████████████████████████████████████████████████████| 133885/133885 [12:22<00:00, 180.29it/s]\n"
     ]
    },
    {
     "name": "stdout",
     "output_type": "stream",
     "text": [
      "133885 133885\n"
     ]
    },
    {
     "name": "stderr",
     "output_type": "stream",
     "text": [
      "100%|████████████████████████████████████████████████████████| 133885/133885 [1:27:53<00:00, 25.39it/s]\n"
     ]
    },
    {
     "name": "stdout",
     "output_type": "stream",
     "text": [
      "133885 133885\n"
     ]
    },
    {
     "name": "stderr",
     "output_type": "stream",
     "text": [
      "100%|██████████████████████████████████████████████████████████| 133885/133885 [33:54<00:00, 65.79it/s]\n"
     ]
    },
    {
     "name": "stdout",
     "output_type": "stream",
     "text": [
      "133885 133885\n"
     ]
    },
    {
     "name": "stderr",
     "output_type": "stream",
     "text": [
      "100%|██████████████████████████████████████████████████████████| 133885/133885 [49:07<00:00, 45.42it/s]\n"
     ]
    },
    {
     "name": "stdout",
     "output_type": "stream",
     "text": [
      "133885 133885\n"
     ]
    },
    {
     "name": "stderr",
     "output_type": "stream",
     "text": [
      "100%|█████████████████████████████████████████████████████████| 133885/133885 [19:57<00:00, 111.78it/s]\n"
     ]
    },
    {
     "name": "stdout",
     "output_type": "stream",
     "text": [
      "1128 1128\n"
     ]
    },
    {
     "name": "stderr",
     "output_type": "stream",
     "text": [
      "100%|█████████████████████████████████████████████████████████████| 1128/1128 [00:02<00:00, 415.79it/s]\n"
     ]
    },
    {
     "name": "stdout",
     "output_type": "stream",
     "text": [
      "1128 1128\n"
     ]
    },
    {
     "name": "stderr",
     "output_type": "stream",
     "text": [
      "100%|█████████████████████████████████████████████████████████████| 1128/1128 [00:02<00:00, 413.54it/s]\n"
     ]
    },
    {
     "name": "stdout",
     "output_type": "stream",
     "text": [
      "1128 1128\n"
     ]
    },
    {
     "name": "stderr",
     "output_type": "stream",
     "text": [
      "100%|█████████████████████████████████████████████████████████████| 1128/1128 [00:02<00:00, 426.51it/s]\n"
     ]
    },
    {
     "name": "stdout",
     "output_type": "stream",
     "text": [
      "1128 1128\n"
     ]
    },
    {
     "name": "stderr",
     "output_type": "stream",
     "text": [
      "100%|█████████████████████████████████████████████████████████████| 1128/1128 [00:02<00:00, 425.51it/s]\n"
     ]
    },
    {
     "name": "stdout",
     "output_type": "stream",
     "text": [
      "1128 1128\n"
     ]
    },
    {
     "name": "stderr",
     "output_type": "stream",
     "text": [
      "100%|█████████████████████████████████████████████████████████████| 1128/1128 [00:05<00:00, 204.77it/s]\n"
     ]
    },
    {
     "name": "stdout",
     "output_type": "stream",
     "text": [
      "1128 1128\n"
     ]
    },
    {
     "name": "stderr",
     "output_type": "stream",
     "text": [
      "100%|█████████████████████████████████████████████████████████████| 1128/1128 [00:05<00:00, 218.50it/s]\n"
     ]
    },
    {
     "name": "stdout",
     "output_type": "stream",
     "text": [
      "1128 1128\n"
     ]
    },
    {
     "name": "stderr",
     "output_type": "stream",
     "text": [
      "100%|█████████████████████████████████████████████████████████████| 1128/1128 [00:05<00:00, 218.08it/s]\n"
     ]
    },
    {
     "name": "stdout",
     "output_type": "stream",
     "text": [
      "1128 1128\n"
     ]
    },
    {
     "name": "stderr",
     "output_type": "stream",
     "text": [
      "100%|█████████████████████████████████████████████████████████████| 1128/1128 [00:05<00:00, 220.79it/s]\n"
     ]
    },
    {
     "name": "stdout",
     "output_type": "stream",
     "text": [
      "642 642\n"
     ]
    },
    {
     "name": "stderr",
     "output_type": "stream",
     "text": [
      "100%|███████████████████████████████████████████████████████████████| 642/642 [00:01<00:00, 603.30it/s]\n"
     ]
    },
    {
     "name": "stdout",
     "output_type": "stream",
     "text": [
      "642 642\n"
     ]
    },
    {
     "name": "stderr",
     "output_type": "stream",
     "text": [
      "100%|███████████████████████████████████████████████████████████████| 642/642 [00:01<00:00, 624.93it/s]\n"
     ]
    },
    {
     "name": "stdout",
     "output_type": "stream",
     "text": [
      "642 642\n"
     ]
    },
    {
     "name": "stderr",
     "output_type": "stream",
     "text": [
      "100%|███████████████████████████████████████████████████████████████| 642/642 [00:01<00:00, 612.17it/s]\n"
     ]
    },
    {
     "name": "stdout",
     "output_type": "stream",
     "text": [
      "642 642\n"
     ]
    },
    {
     "name": "stderr",
     "output_type": "stream",
     "text": [
      "100%|███████████████████████████████████████████████████████████████| 642/642 [00:01<00:00, 617.51it/s]\n"
     ]
    },
    {
     "name": "stdout",
     "output_type": "stream",
     "text": [
      "642 642\n"
     ]
    },
    {
     "name": "stderr",
     "output_type": "stream",
     "text": [
      "100%|███████████████████████████████████████████████████████████████| 642/642 [00:01<00:00, 322.58it/s]\n"
     ]
    },
    {
     "name": "stdout",
     "output_type": "stream",
     "text": [
      "642 642\n"
     ]
    },
    {
     "name": "stderr",
     "output_type": "stream",
     "text": [
      "100%|███████████████████████████████████████████████████████████████| 642/642 [00:02<00:00, 292.64it/s]\n"
     ]
    },
    {
     "name": "stdout",
     "output_type": "stream",
     "text": [
      "642 642\n"
     ]
    },
    {
     "name": "stderr",
     "output_type": "stream",
     "text": [
      "100%|███████████████████████████████████████████████████████████████| 642/642 [00:02<00:00, 285.93it/s]\n"
     ]
    },
    {
     "name": "stdout",
     "output_type": "stream",
     "text": [
      "642 642\n"
     ]
    },
    {
     "name": "stderr",
     "output_type": "stream",
     "text": [
      "100%|███████████████████████████████████████████████████████████████| 642/642 [00:02<00:00, 304.25it/s]\n"
     ]
    },
    {
     "name": "stdout",
     "output_type": "stream",
     "text": [
      "4200 4200\n"
     ]
    },
    {
     "name": "stderr",
     "output_type": "stream",
     "text": [
      "100%|█████████████████████████████████████████████████████████████| 4200/4200 [00:21<00:00, 194.37it/s]\n"
     ]
    },
    {
     "name": "stdout",
     "output_type": "stream",
     "text": [
      "4200 4200\n"
     ]
    },
    {
     "name": "stderr",
     "output_type": "stream",
     "text": [
      "100%|█████████████████████████████████████████████████████████████| 4200/4200 [00:21<00:00, 199.76it/s]\n"
     ]
    },
    {
     "name": "stdout",
     "output_type": "stream",
     "text": [
      "4200 4200\n"
     ]
    },
    {
     "name": "stderr",
     "output_type": "stream",
     "text": [
      "100%|█████████████████████████████████████████████████████████████| 4200/4200 [00:21<00:00, 196.91it/s]\n"
     ]
    },
    {
     "name": "stdout",
     "output_type": "stream",
     "text": [
      "4200 4200\n"
     ]
    },
    {
     "name": "stderr",
     "output_type": "stream",
     "text": [
      "100%|█████████████████████████████████████████████████████████████| 4200/4200 [00:20<00:00, 203.16it/s]\n"
     ]
    },
    {
     "name": "stdout",
     "output_type": "stream",
     "text": [
      "4200 4200\n"
     ]
    },
    {
     "name": "stderr",
     "output_type": "stream",
     "text": [
      "100%|██████████████████████████████████████████████████████████████| 4200/4200 [00:50<00:00, 83.62it/s]\n"
     ]
    },
    {
     "name": "stdout",
     "output_type": "stream",
     "text": [
      "4200 4200\n"
     ]
    },
    {
     "name": "stderr",
     "output_type": "stream",
     "text": [
      "100%|██████████████████████████████████████████████████████████████| 4200/4200 [00:44<00:00, 94.89it/s]\n"
     ]
    },
    {
     "name": "stdout",
     "output_type": "stream",
     "text": [
      "4200 4200\n"
     ]
    },
    {
     "name": "stderr",
     "output_type": "stream",
     "text": [
      "100%|██████████████████████████████████████████████████████████████| 4200/4200 [00:46<00:00, 90.54it/s]\n"
     ]
    },
    {
     "name": "stdout",
     "output_type": "stream",
     "text": [
      "4200 4200\n"
     ]
    },
    {
     "name": "stderr",
     "output_type": "stream",
     "text": [
      "100%|██████████████████████████████████████████████████████████████| 4200/4200 [00:43<00:00, 95.50it/s]\n"
     ]
    },
    {
     "name": "stdout",
     "output_type": "stream",
     "text": [
      "93087 93087\n"
     ]
    },
    {
     "name": "stderr",
     "output_type": "stream",
     "text": [
      "100%|████████████████████████████████████████████████████████████| 93087/93087 [20:34<00:00, 75.38it/s]\n"
     ]
    },
    {
     "name": "stdout",
     "output_type": "stream",
     "text": [
      "93087 93087\n"
     ]
    },
    {
     "name": "stderr",
     "output_type": "stream",
     "text": [
      "100%|███████████████████████████████████████████████████████████| 93087/93087 [15:04<00:00, 102.89it/s]\n"
     ]
    },
    {
     "name": "stdout",
     "output_type": "stream",
     "text": [
      "93087 93087\n"
     ]
    },
    {
     "name": "stderr",
     "output_type": "stream",
     "text": [
      "100%|███████████████████████████████████████████████████████████| 93087/93087 [14:58<00:00, 103.62it/s]\n"
     ]
    },
    {
     "name": "stdout",
     "output_type": "stream",
     "text": [
      "93087 93087\n"
     ]
    },
    {
     "name": "stderr",
     "output_type": "stream",
     "text": [
      "100%|███████████████████████████████████████████████████████████| 93087/93087 [11:51<00:00, 130.84it/s]\n"
     ]
    },
    {
     "name": "stdout",
     "output_type": "stream",
     "text": [
      "93087 93087\n"
     ]
    },
    {
     "name": "stderr",
     "output_type": "stream",
     "text": [
      "100%|██████████████████████████████████████████████████████████| 93087/93087 [1:37:02<00:00, 15.99it/s]\n"
     ]
    },
    {
     "name": "stdout",
     "output_type": "stream",
     "text": [
      "93087 93087\n"
     ]
    },
    {
     "name": "stderr",
     "output_type": "stream",
     "text": [
      "100%|████████████████████████████████████████████████████████████| 93087/93087 [44:48<00:00, 34.63it/s]\n"
     ]
    },
    {
     "name": "stdout",
     "output_type": "stream",
     "text": [
      "93087 93087\n"
     ]
    },
    {
     "name": "stderr",
     "output_type": "stream",
     "text": [
      "100%|████████████████████████████████████████████████████████████| 93087/93087 [47:09<00:00, 32.90it/s]\n"
     ]
    },
    {
     "name": "stdout",
     "output_type": "stream",
     "text": [
      "93087 93087\n"
     ]
    },
    {
     "name": "stderr",
     "output_type": "stream",
     "text": [
      "100%|████████████████████████████████████████████████████████████| 93087/93087 [22:39<00:00, 68.45it/s]\n"
     ]
    },
    {
     "name": "stdout",
     "output_type": "stream",
     "text": [
      "41127 41127\n"
     ]
    },
    {
     "name": "stderr",
     "output_type": "stream",
     "text": [
      "100%|████████████████████████████████████████████████████████████| 41127/41127 [15:30<00:00, 44.22it/s]\n"
     ]
    },
    {
     "name": "stdout",
     "output_type": "stream",
     "text": [
      "41127 41127\n"
     ]
    },
    {
     "name": "stderr",
     "output_type": "stream",
     "text": [
      "100%|████████████████████████████████████████████████████████████| 41127/41127 [08:28<00:00, 80.84it/s]\n"
     ]
    },
    {
     "name": "stdout",
     "output_type": "stream",
     "text": [
      "41127 41127\n"
     ]
    },
    {
     "name": "stderr",
     "output_type": "stream",
     "text": [
      "100%|████████████████████████████████████████████████████████████| 41127/41127 [13:20<00:00, 51.36it/s]\n"
     ]
    },
    {
     "name": "stdout",
     "output_type": "stream",
     "text": [
      "41127 41127\n"
     ]
    },
    {
     "name": "stderr",
     "output_type": "stream",
     "text": [
      "100%|████████████████████████████████████████████████████████████| 41127/41127 [06:55<00:00, 99.04it/s]\n"
     ]
    },
    {
     "name": "stdout",
     "output_type": "stream",
     "text": [
      "41127 41127\n"
     ]
    },
    {
     "name": "stderr",
     "output_type": "stream",
     "text": [
      "100%|██████████████████████████████████████████████████████████| 41127/41127 [1:15:44<00:00,  9.05it/s]\n"
     ]
    },
    {
     "name": "stdout",
     "output_type": "stream",
     "text": [
      "41127 41127\n"
     ]
    },
    {
     "name": "stderr",
     "output_type": "stream",
     "text": [
      "100%|████████████████████████████████████████████████████████████| 41127/41127 [35:45<00:00, 19.17it/s]\n"
     ]
    },
    {
     "name": "stdout",
     "output_type": "stream",
     "text": [
      "41127 41127\n"
     ]
    },
    {
     "name": "stderr",
     "output_type": "stream",
     "text": [
      "100%|████████████████████████████████████████████████████████████| 41127/41127 [54:40<00:00, 12.54it/s]\n"
     ]
    },
    {
     "name": "stdout",
     "output_type": "stream",
     "text": [
      "41127 41127\n"
     ]
    },
    {
     "name": "stderr",
     "output_type": "stream",
     "text": [
      "100%|████████████████████████████████████████████████████████████| 41127/41127 [23:31<00:00, 29.14it/s]\n"
     ]
    },
    {
     "name": "stdout",
     "output_type": "stream",
     "text": [
      "1513 1513\n"
     ]
    },
    {
     "name": "stderr",
     "output_type": "stream",
     "text": [
      "100%|█████████████████████████████████████████████████████████████| 1513/1513 [00:10<00:00, 142.19it/s]\n"
     ]
    },
    {
     "name": "stdout",
     "output_type": "stream",
     "text": [
      "1513 1513\n"
     ]
    },
    {
     "name": "stderr",
     "output_type": "stream",
     "text": [
      "100%|█████████████████████████████████████████████████████████████| 1513/1513 [00:09<00:00, 160.01it/s]\n"
     ]
    },
    {
     "name": "stdout",
     "output_type": "stream",
     "text": [
      "1513 1513\n"
     ]
    },
    {
     "name": "stderr",
     "output_type": "stream",
     "text": [
      "100%|█████████████████████████████████████████████████████████████| 1513/1513 [00:09<00:00, 164.62it/s]\n"
     ]
    },
    {
     "name": "stdout",
     "output_type": "stream",
     "text": [
      "1513 1513\n"
     ]
    },
    {
     "name": "stderr",
     "output_type": "stream",
     "text": [
      "100%|█████████████████████████████████████████████████████████████| 1513/1513 [00:09<00:00, 164.74it/s]\n"
     ]
    },
    {
     "name": "stdout",
     "output_type": "stream",
     "text": [
      "1513 1513\n"
     ]
    },
    {
     "name": "stderr",
     "output_type": "stream",
     "text": [
      "100%|██████████████████████████████████████████████████████████████| 1513/1513 [00:19<00:00, 78.48it/s]\n"
     ]
    },
    {
     "name": "stdout",
     "output_type": "stream",
     "text": [
      "1513 1513\n"
     ]
    },
    {
     "name": "stderr",
     "output_type": "stream",
     "text": [
      "100%|██████████████████████████████████████████████████████████████| 1513/1513 [00:19<00:00, 75.89it/s]\n"
     ]
    },
    {
     "name": "stdout",
     "output_type": "stream",
     "text": [
      "1513 1513\n"
     ]
    },
    {
     "name": "stderr",
     "output_type": "stream",
     "text": [
      "100%|██████████████████████████████████████████████████████████████| 1513/1513 [00:18<00:00, 82.34it/s]\n"
     ]
    },
    {
     "name": "stdout",
     "output_type": "stream",
     "text": [
      "1513 1513\n"
     ]
    },
    {
     "name": "stderr",
     "output_type": "stream",
     "text": [
      "100%|██████████████████████████████████████████████████████████████| 1513/1513 [00:18<00:00, 81.03it/s]\n"
     ]
    },
    {
     "name": "stdout",
     "output_type": "stream",
     "text": [
      "2039 2039\n"
     ]
    },
    {
     "name": "stderr",
     "output_type": "stream",
     "text": [
      "100%|█████████████████████████████████████████████████████████████| 2039/2039 [00:09<00:00, 213.80it/s]\n"
     ]
    },
    {
     "name": "stdout",
     "output_type": "stream",
     "text": [
      "2039 2039\n"
     ]
    },
    {
     "name": "stderr",
     "output_type": "stream",
     "text": [
      "100%|█████████████████████████████████████████████████████████████| 2039/2039 [00:14<00:00, 136.68it/s]\n"
     ]
    },
    {
     "name": "stdout",
     "output_type": "stream",
     "text": [
      "2039 2039\n"
     ]
    },
    {
     "name": "stderr",
     "output_type": "stream",
     "text": [
      "100%|█████████████████████████████████████████████████████████████| 2039/2039 [00:09<00:00, 220.06it/s]\n"
     ]
    },
    {
     "name": "stdout",
     "output_type": "stream",
     "text": [
      "2039 2039\n"
     ]
    },
    {
     "name": "stderr",
     "output_type": "stream",
     "text": [
      "100%|█████████████████████████████████████████████████████████████| 2039/2039 [00:08<00:00, 232.49it/s]\n"
     ]
    },
    {
     "name": "stdout",
     "output_type": "stream",
     "text": [
      "2039 2039\n"
     ]
    },
    {
     "name": "stderr",
     "output_type": "stream",
     "text": [
      "100%|█████████████████████████████████████████████████████████████| 2039/2039 [00:19<00:00, 104.60it/s]\n"
     ]
    },
    {
     "name": "stdout",
     "output_type": "stream",
     "text": [
      "2039 2039\n"
     ]
    },
    {
     "name": "stderr",
     "output_type": "stream",
     "text": [
      "100%|█████████████████████████████████████████████████████████████| 2039/2039 [00:18<00:00, 108.57it/s]\n"
     ]
    },
    {
     "name": "stdout",
     "output_type": "stream",
     "text": [
      "2039 2039\n"
     ]
    },
    {
     "name": "stderr",
     "output_type": "stream",
     "text": [
      "100%|█████████████████████████████████████████████████████████████| 2039/2039 [00:19<00:00, 104.34it/s]\n"
     ]
    },
    {
     "name": "stdout",
     "output_type": "stream",
     "text": [
      "2039 2039\n"
     ]
    },
    {
     "name": "stderr",
     "output_type": "stream",
     "text": [
      "100%|█████████████████████████████████████████████████████████████| 2039/2039 [00:18<00:00, 111.86it/s]\n"
     ]
    },
    {
     "name": "stdout",
     "output_type": "stream",
     "text": [
      "8576 8576\n"
     ]
    },
    {
     "name": "stderr",
     "output_type": "stream",
     "text": [
      "100%|█████████████████████████████████████████████████████████████| 8576/8576 [00:53<00:00, 161.18it/s]\n"
     ]
    },
    {
     "name": "stdout",
     "output_type": "stream",
     "text": [
      "8576 8576\n"
     ]
    },
    {
     "name": "stderr",
     "output_type": "stream",
     "text": [
      "100%|█████████████████████████████████████████████████████████████| 8576/8576 [00:44<00:00, 192.05it/s]\n"
     ]
    },
    {
     "name": "stdout",
     "output_type": "stream",
     "text": [
      "8576 8576\n"
     ]
    },
    {
     "name": "stderr",
     "output_type": "stream",
     "text": [
      "100%|█████████████████████████████████████████████████████████████| 8576/8576 [00:47<00:00, 181.14it/s]\n"
     ]
    },
    {
     "name": "stdout",
     "output_type": "stream",
     "text": [
      "8576 8576\n"
     ]
    },
    {
     "name": "stderr",
     "output_type": "stream",
     "text": [
      "100%|█████████████████████████████████████████████████████████████| 8576/8576 [00:39<00:00, 218.84it/s]\n"
     ]
    },
    {
     "name": "stdout",
     "output_type": "stream",
     "text": [
      "8576 8576\n"
     ]
    },
    {
     "name": "stderr",
     "output_type": "stream",
     "text": [
      "100%|██████████████████████████████████████████████████████████████| 8576/8576 [02:13<00:00, 64.13it/s]\n"
     ]
    },
    {
     "name": "stdout",
     "output_type": "stream",
     "text": [
      "8576 8576\n"
     ]
    },
    {
     "name": "stderr",
     "output_type": "stream",
     "text": [
      "100%|██████████████████████████████████████████████████████████████| 8576/8576 [01:40<00:00, 85.28it/s]\n"
     ]
    },
    {
     "name": "stdout",
     "output_type": "stream",
     "text": [
      "8576 8576\n"
     ]
    },
    {
     "name": "stderr",
     "output_type": "stream",
     "text": [
      "100%|██████████████████████████████████████████████████████████████| 8576/8576 [01:52<00:00, 75.91it/s]\n"
     ]
    },
    {
     "name": "stdout",
     "output_type": "stream",
     "text": [
      "8576 8576\n"
     ]
    },
    {
     "name": "stderr",
     "output_type": "stream",
     "text": [
      "100%|██████████████████████████████████████████████████████████████| 8576/8576 [01:25<00:00, 99.85it/s]\n"
     ]
    },
    {
     "name": "stdout",
     "output_type": "stream",
     "text": [
      "1427 1427\n"
     ]
    },
    {
     "name": "stderr",
     "output_type": "stream",
     "text": [
      "100%|█████████████████████████████████████████████████████████████| 1427/1427 [00:10<00:00, 139.80it/s]\n"
     ]
    },
    {
     "name": "stdout",
     "output_type": "stream",
     "text": [
      "1427 1427\n"
     ]
    },
    {
     "name": "stderr",
     "output_type": "stream",
     "text": [
      "100%|█████████████████████████████████████████████████████████████| 1427/1427 [00:11<00:00, 129.39it/s]\n"
     ]
    },
    {
     "name": "stdout",
     "output_type": "stream",
     "text": [
      "1427 1427\n"
     ]
    },
    {
     "name": "stderr",
     "output_type": "stream",
     "text": [
      "100%|█████████████████████████████████████████████████████████████| 1427/1427 [00:09<00:00, 154.84it/s]\n"
     ]
    },
    {
     "name": "stdout",
     "output_type": "stream",
     "text": [
      "1427 1427\n"
     ]
    },
    {
     "name": "stderr",
     "output_type": "stream",
     "text": [
      "100%|█████████████████████████████████████████████████████████████| 1427/1427 [00:09<00:00, 156.69it/s]\n"
     ]
    },
    {
     "name": "stdout",
     "output_type": "stream",
     "text": [
      "1427 1427\n"
     ]
    },
    {
     "name": "stderr",
     "output_type": "stream",
     "text": [
      "100%|██████████████████████████████████████████████████████████████| 1427/1427 [00:20<00:00, 70.69it/s]\n"
     ]
    },
    {
     "name": "stdout",
     "output_type": "stream",
     "text": [
      "1427 1427\n"
     ]
    },
    {
     "name": "stderr",
     "output_type": "stream",
     "text": [
      "100%|██████████████████████████████████████████████████████████████| 1427/1427 [00:19<00:00, 72.60it/s]\n"
     ]
    },
    {
     "name": "stdout",
     "output_type": "stream",
     "text": [
      "1427 1427\n"
     ]
    },
    {
     "name": "stderr",
     "output_type": "stream",
     "text": [
      "100%|██████████████████████████████████████████████████████████████| 1427/1427 [00:18<00:00, 75.11it/s]\n"
     ]
    },
    {
     "name": "stdout",
     "output_type": "stream",
     "text": [
      "1427 1427\n"
     ]
    },
    {
     "name": "stderr",
     "output_type": "stream",
     "text": [
      "100%|██████████████████████████████████████████████████████████████| 1427/1427 [00:18<00:00, 78.99it/s]\n"
     ]
    },
    {
     "name": "stdout",
     "output_type": "stream",
     "text": [
      "1478 1478\n"
     ]
    },
    {
     "name": "stderr",
     "output_type": "stream",
     "text": [
      "100%|█████████████████████████████████████████████████████████████| 1478/1478 [00:07<00:00, 203.24it/s]\n"
     ]
    },
    {
     "name": "stdout",
     "output_type": "stream",
     "text": [
      "1478 1478\n"
     ]
    },
    {
     "name": "stderr",
     "output_type": "stream",
     "text": [
      "100%|█████████████████████████████████████████████████████████████| 1478/1478 [00:08<00:00, 184.44it/s]\n"
     ]
    },
    {
     "name": "stdout",
     "output_type": "stream",
     "text": [
      "1478 1478\n"
     ]
    },
    {
     "name": "stderr",
     "output_type": "stream",
     "text": [
      "100%|█████████████████████████████████████████████████████████████| 1478/1478 [00:06<00:00, 214.70it/s]\n"
     ]
    },
    {
     "name": "stdout",
     "output_type": "stream",
     "text": [
      "1478 1478\n"
     ]
    },
    {
     "name": "stderr",
     "output_type": "stream",
     "text": [
      "100%|█████████████████████████████████████████████████████████████| 1478/1478 [00:06<00:00, 211.43it/s]\n"
     ]
    },
    {
     "name": "stdout",
     "output_type": "stream",
     "text": [
      "1478 1478\n"
     ]
    },
    {
     "name": "stderr",
     "output_type": "stream",
     "text": [
      "100%|█████████████████████████████████████████████████████████████| 1478/1478 [00:14<00:00, 100.08it/s]\n"
     ]
    },
    {
     "name": "stdout",
     "output_type": "stream",
     "text": [
      "1478 1478\n"
     ]
    },
    {
     "name": "stderr",
     "output_type": "stream",
     "text": [
      "100%|█████████████████████████████████████████████████████████████| 1478/1478 [00:13<00:00, 106.85it/s]\n"
     ]
    },
    {
     "name": "stdout",
     "output_type": "stream",
     "text": [
      "1478 1478\n"
     ]
    },
    {
     "name": "stderr",
     "output_type": "stream",
     "text": [
      "100%|█████████████████████████████████████████████████████████████| 1478/1478 [00:14<00:00, 103.87it/s]\n"
     ]
    },
    {
     "name": "stdout",
     "output_type": "stream",
     "text": [
      "1478 1478\n"
     ]
    },
    {
     "name": "stderr",
     "output_type": "stream",
     "text": [
      "100%|█████████████████████████████████████████████████████████████| 1478/1478 [00:14<00:00, 102.48it/s]\n"
     ]
    },
    {
     "name": "stdout",
     "output_type": "stream",
     "text": [
      "437929 437929\n"
     ]
    },
    {
     "name": "stderr",
     "output_type": "stream",
     "text": [
      "100%|███████████████████████████████████████████████████████| 437929/437929 [15:09:56<00:00,  8.02it/s]\n"
     ]
    },
    {
     "name": "stdout",
     "output_type": "stream",
     "text": [
      "437929 437929\n"
     ]
    },
    {
     "name": "stderr",
     "output_type": "stream",
     "text": [
      "100%|████████████████████████████████████████████████████████| 437929/437929 [9:34:35<00:00, 12.70it/s]\n"
     ]
    },
    {
     "name": "stdout",
     "output_type": "stream",
     "text": [
      "437929 437929\n"
     ]
    },
    {
     "name": "stderr",
     "output_type": "stream",
     "text": [
      " 75%|████████████████████████████████████████▎             | 327326/437929 [5:59:51<4:42:31,  6.52it/s]"
     ]
    }
   ],
   "source": [
    "for args in pool_args:\n",
    "    process_sdf_file(*args)"
   ]
  },
  {
   "cell_type": "code",
   "execution_count": null,
   "metadata": {},
   "outputs": [],
   "source": []
  }
 ],
 "metadata": {
  "kernelspec": {
   "display_name": "Python 3 (ipykernel)",
   "language": "python",
   "name": "python3"
  },
  "language_info": {
   "codemirror_mode": {
    "name": "ipython",
    "version": 3
   },
   "file_extension": ".py",
   "mimetype": "text/x-python",
   "name": "python",
   "nbconvert_exporter": "python",
   "pygments_lexer": "ipython3",
   "version": "3.9.10"
  }
 },
 "nbformat": 4,
 "nbformat_minor": 4
}
